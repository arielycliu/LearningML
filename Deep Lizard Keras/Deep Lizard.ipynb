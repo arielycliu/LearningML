{
 "cells": [
  {
   "cell_type": "code",
   "execution_count": 4,
   "metadata": {},
   "outputs": [
    {
     "name": "stdout",
     "output_type": "stream",
     "text": [
      "Num GPUs Available:  0\n"
     ]
    }
   ],
   "source": [
    "import tensorflow as tf\n",
    "print(\"Num GPUs Available: \", len(tf.config.experimental.list_physical_devices('GPU')))"
   ]
  },
  {
   "cell_type": "code",
   "execution_count": 5,
   "metadata": {},
   "outputs": [
    {
     "ename": "IndexError",
     "evalue": "list index out of range",
     "output_type": "error",
     "traceback": [
      "\u001b[1;31m---------------------------------------------------------------------------\u001b[0m",
      "\u001b[1;31mIndexError\u001b[0m                                Traceback (most recent call last)",
      "\u001b[1;32m<ipython-input-5-98c692981342>\u001b[0m in \u001b[0;36m<module>\u001b[1;34m\u001b[0m\n\u001b[0;32m      2\u001b[0m \u001b[1;33m\u001b[0m\u001b[0m\n\u001b[0;32m      3\u001b[0m \u001b[0mgpus\u001b[0m \u001b[1;33m=\u001b[0m \u001b[0mtf\u001b[0m\u001b[1;33m.\u001b[0m\u001b[0mconfig\u001b[0m\u001b[1;33m.\u001b[0m\u001b[0mexperimental\u001b[0m\u001b[1;33m.\u001b[0m\u001b[0mlist_physical_devices\u001b[0m\u001b[1;33m(\u001b[0m\u001b[0mdevice_type\u001b[0m\u001b[1;33m=\u001b[0m\u001b[1;34m\"GPU\"\u001b[0m\u001b[1;33m)\u001b[0m\u001b[1;33m\u001b[0m\u001b[1;33m\u001b[0m\u001b[0m\n\u001b[1;32m----> 4\u001b[1;33m \u001b[0mtf\u001b[0m\u001b[1;33m.\u001b[0m\u001b[0mconfig\u001b[0m\u001b[1;33m.\u001b[0m\u001b[0mexperimental\u001b[0m\u001b[1;33m.\u001b[0m\u001b[0mset_visible_devices\u001b[0m\u001b[1;33m(\u001b[0m\u001b[0mdevices\u001b[0m\u001b[1;33m=\u001b[0m\u001b[0mgpus\u001b[0m\u001b[1;33m[\u001b[0m\u001b[1;36m0\u001b[0m\u001b[1;33m]\u001b[0m\u001b[1;33m,\u001b[0m \u001b[0mdevice_type\u001b[0m\u001b[1;33m=\u001b[0m\u001b[1;34m\"GPU\"\u001b[0m\u001b[1;33m)\u001b[0m\u001b[1;33m\u001b[0m\u001b[1;33m\u001b[0m\u001b[0m\n\u001b[0m\u001b[0;32m      5\u001b[0m \u001b[0mtf\u001b[0m\u001b[1;33m.\u001b[0m\u001b[0mconfig\u001b[0m\u001b[1;33m.\u001b[0m\u001b[0mexperimental\u001b[0m\u001b[1;33m.\u001b[0m\u001b[0mset_memory_growth\u001b[0m\u001b[1;33m(\u001b[0m\u001b[0mdevice\u001b[0m\u001b[1;33m=\u001b[0m\u001b[0mgpus\u001b[0m\u001b[1;33m[\u001b[0m\u001b[1;36m0\u001b[0m\u001b[1;33m]\u001b[0m\u001b[1;33m,\u001b[0m \u001b[0menable\u001b[0m\u001b[1;33m=\u001b[0m\u001b[1;32mTrue\u001b[0m\u001b[1;33m)\u001b[0m\u001b[1;33m\u001b[0m\u001b[1;33m\u001b[0m\u001b[0m\n",
      "\u001b[1;31mIndexError\u001b[0m: list index out of range"
     ]
    }
   ],
   "source": [
    "import tensorflow as tf\n",
    "\n",
    "gpus = tf.config.experimental.list_physical_devices(device_type=\"GPU\")\n",
    "tf.config.experimental.set_visible_devices(devices=gpus[0], device_type=\"GPU\")\n",
    "tf.config.experimental.set_memory_growth(device=gpus[0], enable=True)"
   ]
  },
  {
   "cell_type": "code",
   "execution_count": 1,
   "metadata": {},
   "outputs": [],
   "source": [
    "import tensorflow as tf"
   ]
  },
  {
   "cell_type": "markdown",
   "metadata": {},
   "source": [
    "# Data Preparation and Processing\n"
   ]
  },
  {
   "cell_type": "code",
   "execution_count": 2,
   "metadata": {},
   "outputs": [],
   "source": [
    "import numpy as np\n",
    "from ran dom import randint\n",
    "from sklearn.utils import shuffle\n",
    "from sklearn.preprocessing import MinMaxScaler"
   ]
  },
  {
   "cell_type": "code",
   "execution_count": 3,
   "metadata": {},
   "outputs": [],
   "source": [
    "train_labels = []\n",
    "train_samples = []"
   ]
  },
  {
   "cell_type": "markdown",
   "metadata": {},
   "source": [
    "Creating data from random case study\n",
    "\n",
    "As motivation for this data, let’s suppose that an experimental drug was tested on individuals ranging from age 13 to 100 in a clinical trial. The trial had 2100 participants. Half of the participants were under 65 years old, and the other half was 65 years of age or older.\n",
    "\n",
    "The trial showed that around 95% of patients 65 or older experienced side effects from the drug, and around 95% of patients under 65 experienced no side effects, generally showing that elderly individuals were more likely to experience side effects.\n",
    "\n",
    "Ultimately, we want to build a model to tell us whether or not a patient will experience side effects solely based on the patient's age. The judgement of the model will be based on the training data. \n"
   ]
  },
  {
   "cell_type": "code",
   "execution_count": 4,
   "metadata": {},
   "outputs": [],
   "source": [
    "# 1 represents side effect\n",
    "# 0 represents no side effect\n",
    "# generating random data\n",
    "\n",
    "for i in range(50):\n",
    "    # The ~5% of younger individuals who did experience side effects\n",
    "    random_younger = randint(13,64)\n",
    "    train_samples.append(random_younger)\n",
    "    train_labels.append(1)\n",
    "\n",
    "    # The ~5% of older individuals who did not experience side effects\n",
    "    random_older = randint(65,100)\n",
    "    train_samples.append(random_older)\n",
    "    train_labels.append(0)\n",
    "\n",
    "for i in range(1000):\n",
    "    # The ~95% of younger individuals who did not experience side effects\n",
    "    random_younger = randint(13,64)\n",
    "    train_samples.append(random_younger)\n",
    "    train_labels.append(0)\n",
    "\n",
    "    # The ~95% of older individuals who did experience side effects\n",
    "    random_older = randint(65,100)\n",
    "    train_samples.append(random_older)\n",
    "    train_labels.append(1)\n",
    "\n",
    "\n"
   ]
  },
  {
   "cell_type": "code",
   "execution_count": 5,
   "metadata": {},
   "outputs": [
    {
     "data": {
      "text/plain": [
       "[36, 94, 33, 85, 40]"
      ]
     },
     "execution_count": 5,
     "metadata": {},
     "output_type": "execute_result"
    }
   ],
   "source": [
    "train_samples[:5]"
   ]
  },
  {
   "cell_type": "code",
   "execution_count": 6,
   "metadata": {},
   "outputs": [],
   "source": [
    "# Convert to numpy\n",
    "train_labels = np.array(train_labels)\n",
    "train_samples = np.array(train_samples)\n",
    "\n",
    "# Shuffle all the generated data into random order\n",
    "train_labels, train_samples = shuffle(train_labels, train_samples)\n"
   ]
  },
  {
   "cell_type": "code",
   "execution_count": 7,
   "metadata": {},
   "outputs": [],
   "source": [
    "# Scale down the data from 13 to 100 age to 0-1\n",
    "# Reshape so the scaler accepts the data\n",
    "# Scaling due to batch normalization\n",
    "\n",
    "scaler = MinMaxScaler(feature_range = (0,1))\n",
    "scaled_train_samples = scaler.fit_transform(train_samples.reshape(-1, 1))"
   ]
  },
  {
   "cell_type": "code",
   "execution_count": 8,
   "metadata": {},
   "outputs": [
    {
     "data": {
      "text/plain": [
       "array([[0.82758621],\n",
       "       [0.1954023 ],\n",
       "       [0.81609195],\n",
       "       [0.51724138],\n",
       "       [0.89655172]])"
      ]
     },
     "execution_count": 8,
     "metadata": {},
     "output_type": "execute_result"
    }
   ],
   "source": [
    "# Rescaled ages\n",
    "scaled_train_samples[:5]"
   ]
  },
  {
   "cell_type": "markdown",
   "metadata": {},
   "source": [
    "# Creating the ANN\n"
   ]
  },
  {
   "cell_type": "code",
   "execution_count": 9,
   "metadata": {},
   "outputs": [],
   "source": [
    "# Import stuff for creating the neural network\n",
    "import tensorflow as tf\n",
    "from tensorflow import keras\n",
    "from tensorflow.keras.models import Sequential\n",
    "from tensorflow.keras.layers import Activation, Dense\n",
    "\n",
    "# import modules for training the neural network\n",
    "from tensorflow.keras.optimizers import Adam\n",
    "from tensorflow.keras.metrics import categorical_crossentropy"
   ]
  },
  {
   "cell_type": "code",
   "execution_count": 10,
   "metadata": {},
   "outputs": [],
   "source": [
    "# Sequential model is a linear stack of layers\n",
    "# easiest model to make\n",
    "\n",
    "model = Sequential([\n",
    "\n",
    "    # First hidden layer, second layer after input data\n",
    "    \n",
    "    # Dense, or fully connected layer\n",
    "    \n",
    "    Dense(units=16, input_shape=(1,), activation ='relu'), # 16 nodes for no particular reason\n",
    "    Dense(units=32, activation='relu'),\n",
    "    Dense(units=2, activation='softmax')  # 2 nodes for each output either with or without side effects\n",
    "    # softmax, probabilities for each class, which class is more probable for each patient\n",
    "    \n",
    "])\n",
    "\n"
   ]
  },
  {
   "cell_type": "code",
   "execution_count": 11,
   "metadata": {},
   "outputs": [
    {
     "name": "stdout",
     "output_type": "stream",
     "text": [
      "Model: \"sequential\"\n",
      "_________________________________________________________________\n",
      "Layer (type)                 Output Shape              Param #   \n",
      "=================================================================\n",
      "dense (Dense)                (None, 16)                32        \n",
      "_________________________________________________________________\n",
      "dense_1 (Dense)              (None, 32)                544       \n",
      "_________________________________________________________________\n",
      "dense_2 (Dense)              (None, 2)                 66        \n",
      "=================================================================\n",
      "Total params: 642\n",
      "Trainable params: 642\n",
      "Non-trainable params: 0\n",
      "_________________________________________________________________\n"
     ]
    }
   ],
   "source": [
    "# visual representation of the model\n",
    "\n",
    "model.summary()"
   ]
  },
  {
   "cell_type": "markdown",
   "metadata": {},
   "source": [
    "# Training the ANN"
   ]
  },
  {
   "cell_type": "code",
   "execution_count": 12,
   "metadata": {},
   "outputs": [],
   "source": [
    "# prepare for training\n",
    "model.compile(optimizer=Adam(learning_rate=0.0001), loss = 'sparse_categorical_crossentropy', metrics=['accuracy'])"
   ]
  },
  {
   "cell_type": "code",
   "execution_count": 13,
   "metadata": {},
   "outputs": [
    {
     "name": "stdout",
     "output_type": "stream",
     "text": [
      "Train on 2100 samples\n",
      "Epoch 1/30\n",
      "2100/2100 [==============================] - 2s 831us/sample - loss: 0.7153 - accuracy: 0.3310\n",
      "Epoch 2/30\n",
      "2100/2100 [==============================] - 1s 245us/sample - loss: 0.6763 - accuracy: 0.5743\n",
      "Epoch 3/30\n",
      "2100/2100 [==============================] - 0s 231us/sample - loss: 0.6416 - accuracy: 0.6462\n",
      "Epoch 4/30\n",
      "2100/2100 [==============================] - 0s 230us/sample - loss: 0.6009 - accuracy: 0.7314\n",
      "Epoch 5/30\n",
      "2100/2100 [==============================] - 0s 219us/sample - loss: 0.5679 - accuracy: 0.7629\n",
      "Epoch 6/30\n",
      "2100/2100 [==============================] - 0s 191us/sample - loss: 0.5376 - accuracy: 0.8033\n",
      "Epoch 7/30\n",
      "2100/2100 [==============================] - 0s 182us/sample - loss: 0.5042 - accuracy: 0.8229\n",
      "Epoch 8/30\n",
      "2100/2100 [==============================] - 0s 179us/sample - loss: 0.4712 - accuracy: 0.8419\n",
      "Epoch 9/30\n",
      "2100/2100 [==============================] - 0s 180us/sample - loss: 0.4400 - accuracy: 0.8676\n",
      "Epoch 10/30\n",
      "2100/2100 [==============================] - 0s 184us/sample - loss: 0.4115 - accuracy: 0.8781\n",
      "Epoch 11/30\n",
      "2100/2100 [==============================] - 0s 218us/sample - loss: 0.3857 - accuracy: 0.8995\n",
      "Epoch 12/30\n",
      "2100/2100 [==============================] - 1s 242us/sample - loss: 0.3626 - accuracy: 0.9043\n",
      "Epoch 13/30\n",
      "2100/2100 [==============================] - 1s 285us/sample - loss: 0.3439 - accuracy: 0.9110\n",
      "Epoch 14/30\n",
      "2100/2100 [==============================] - 1s 310us/sample - loss: 0.3287 - accuracy: 0.9124\n",
      "Epoch 15/30\n",
      "2100/2100 [==============================] - 1s 304us/sample - loss: 0.3165 - accuracy: 0.9233\n",
      "Epoch 16/30\n",
      "2100/2100 [==============================] - 0s 229us/sample - loss: 0.3068 - accuracy: 0.9248\n",
      "Epoch 17/30\n",
      "2100/2100 [==============================] - 0s 193us/sample - loss: 0.2986 - accuracy: 0.9286\n",
      "Epoch 18/30\n",
      "2100/2100 [==============================] - 0s 212us/sample - loss: 0.2922 - accuracy: 0.9290\n",
      "Epoch 19/30\n",
      "2100/2100 [==============================] - 1s 268us/sample - loss: 0.2866 - accuracy: 0.9319\n",
      "Epoch 20/30\n",
      "2100/2100 [==============================] - 0s 211us/sample - loss: 0.2822 - accuracy: 0.9286\n",
      "Epoch 21/30\n",
      "2100/2100 [==============================] - 1s 327us/sample - loss: 0.2784 - accuracy: 0.9343\n",
      "Epoch 22/30\n",
      "2100/2100 [==============================] - 1s 344us/sample - loss: 0.2751 - accuracy: 0.9348\n",
      "Epoch 23/30\n",
      "2100/2100 [==============================] - 1s 317us/sample - loss: 0.2721 - accuracy: 0.9333\n",
      "Epoch 24/30\n",
      "2100/2100 [==============================] - 1s 416us/sample - loss: 0.2699 - accuracy: 0.9338\n",
      "Epoch 25/30\n",
      "2100/2100 [==============================] - 1s 364us/sample - loss: 0.2676 - accuracy: 0.9357\n",
      "Epoch 26/30\n",
      "2100/2100 [==============================] - 0s 227us/sample - loss: 0.2655 - accuracy: 0.9338\n",
      "Epoch 27/30\n",
      "2100/2100 [==============================] - 1s 533us/sample - loss: 0.2638 - accuracy: 0.9371\n",
      "Epoch 28/30\n",
      "2100/2100 [==============================] - 1s 419us/sample - loss: 0.2622 - accuracy: 0.9357\n",
      "Epoch 29/30\n",
      "2100/2100 [==============================] - 1s 558us/sample - loss: 0.2609 - accuracy: 0.9395 - loss: 0.2681 - \n",
      "Epoch 30/30\n",
      "2100/2100 [==============================] - 1s 270us/sample - loss: 0.2594 - accuracy: 0.9362\n"
     ]
    },
    {
     "data": {
      "text/plain": [
       "<tensorflow.python.keras.callbacks.History at 0x2777860d308>"
      ]
     },
     "execution_count": 13,
     "metadata": {},
     "output_type": "execute_result"
    }
   ],
   "source": [
    "# shuffle always true\n",
    "# verbose shows the training\n",
    "model.fit(x=scaled_train_samples, y=train_labels, batch_size=10, epochs=30, shuffle=True, verbose=1)"
   ]
  },
  {
   "cell_type": "markdown",
   "metadata": {},
   "source": [
    "# Validation Set\n"
   ]
  },
  {
   "cell_type": "code",
   "execution_count": 14,
   "metadata": {},
   "outputs": [
    {
     "name": "stdout",
     "output_type": "stream",
     "text": [
      "Train on 1890 samples, validate on 210 samples\n",
      "Epoch 1/30\n",
      "1890/1890 [==============================] - 1s 387us/sample - loss: 0.2551 - accuracy: 0.9402 - val_loss: 0.2848 - val_accuracy: 0.9143\n",
      "Epoch 2/30\n",
      "1890/1890 [==============================] - 1s 408us/sample - loss: 0.2540 - accuracy: 0.9402 - val_loss: 0.2842 - val_accuracy: 0.9143\n",
      "Epoch 3/30\n",
      "1890/1890 [==============================] - 1s 545us/sample - loss: 0.2529 - accuracy: 0.9418 - val_loss: 0.2835 - val_accuracy: 0.9143\n",
      "Epoch 4/30\n",
      "1890/1890 [==============================] - 1s 473us/sample - loss: 0.2519 - accuracy: 0.9429 - val_loss: 0.2827 - val_accuracy: 0.9143\n",
      "Epoch 5/30\n",
      "1890/1890 [==============================] - 1s 574us/sample - loss: 0.2509 - accuracy: 0.9386 - val_loss: 0.2821 - val_accuracy: 0.9143\n",
      "Epoch 6/30\n",
      "1890/1890 [==============================] - 1s 522us/sample - loss: 0.2500 - accuracy: 0.9413 - val_loss: 0.2817 - val_accuracy: 0.9238\n",
      "Epoch 7/30\n",
      "1890/1890 [==============================] - 1s 511us/sample - loss: 0.2492 - accuracy: 0.9434 - val_loss: 0.2809 - val_accuracy: 0.9143\n",
      "Epoch 8/30\n",
      "1890/1890 [==============================] - 1s 546us/sample - loss: 0.2485 - accuracy: 0.9439 - val_loss: 0.2809 - val_accuracy: 0.9238\n",
      "Epoch 9/30\n",
      "1890/1890 [==============================] - 1s 427us/sample - loss: 0.2477 - accuracy: 0.9413 - val_loss: 0.2800 - val_accuracy: 0.9238\n",
      "Epoch 10/30\n",
      "1890/1890 [==============================] - 1s 382us/sample - loss: 0.2468 - accuracy: 0.9450 - val_loss: 0.2798 - val_accuracy: 0.9238\n",
      "Epoch 11/30\n",
      "1890/1890 [==============================] - 1s 385us/sample - loss: 0.2461 - accuracy: 0.9444 - val_loss: 0.2793 - val_accuracy: 0.9238\n",
      "Epoch 12/30\n",
      "1890/1890 [==============================] - 0s 255us/sample - loss: 0.2455 - accuracy: 0.9450 - val_loss: 0.2787 - val_accuracy: 0.9238\n",
      "Epoch 13/30\n",
      "1890/1890 [==============================] - 1s 336us/sample - loss: 0.2449 - accuracy: 0.9434 - val_loss: 0.2780 - val_accuracy: 0.9238\n",
      "Epoch 14/30\n",
      "1890/1890 [==============================] - 1s 634us/sample - loss: 0.2445 - accuracy: 0.9439 - val_loss: 0.2782 - val_accuracy: 0.9238\n",
      "Epoch 15/30\n",
      "1890/1890 [==============================] - 1s 348us/sample - loss: 0.2439 - accuracy: 0.9450 - val_loss: 0.2775 - val_accuracy: 0.9238\n",
      "Epoch 16/30\n",
      "1890/1890 [==============================] - 0s 237us/sample - loss: 0.2432 - accuracy: 0.9439 - val_loss: 0.2769 - val_accuracy: 0.9238\n",
      "Epoch 17/30\n",
      "1890/1890 [==============================] - 0s 253us/sample - loss: 0.2428 - accuracy: 0.9450 - val_loss: 0.2767 - val_accuracy: 0.9238\n",
      "Epoch 18/30\n",
      "1890/1890 [==============================] - 0s 212us/sample - loss: 0.2424 - accuracy: 0.9450 - val_loss: 0.2764 - val_accuracy: 0.9238\n",
      "Epoch 19/30\n",
      "1890/1890 [==============================] - 0s 175us/sample - loss: 0.2417 - accuracy: 0.9418 - val_loss: 0.2763 - val_accuracy: 0.9238\n",
      "Epoch 20/30\n",
      "1890/1890 [==============================] - 0s 257us/sample - loss: 0.2414 - accuracy: 0.9444 - val_loss: 0.2760 - val_accuracy: 0.9238\n",
      "Epoch 21/30\n",
      "1890/1890 [==============================] - 1s 269us/sample - loss: 0.2411 - accuracy: 0.9439 - val_loss: 0.2758 - val_accuracy: 0.9238\n",
      "Epoch 22/30\n",
      "1890/1890 [==============================] - 0s 208us/sample - loss: 0.2405 - accuracy: 0.9450 - val_loss: 0.2753 - val_accuracy: 0.9238\n",
      "Epoch 23/30\n",
      "1890/1890 [==============================] - 0s 227us/sample - loss: 0.2400 - accuracy: 0.9423 - val_loss: 0.2760 - val_accuracy: 0.9238\n",
      "Epoch 24/30\n",
      "1890/1890 [==============================] - 0s 246us/sample - loss: 0.2396 - accuracy: 0.9460 - val_loss: 0.2743 - val_accuracy: 0.9238\n",
      "Epoch 25/30\n",
      "1890/1890 [==============================] - 0s 246us/sample - loss: 0.2395 - accuracy: 0.9450 - val_loss: 0.2739 - val_accuracy: 0.9238\n",
      "Epoch 26/30\n",
      "1890/1890 [==============================] - 0s 242us/sample - loss: 0.2389 - accuracy: 0.9450 - val_loss: 0.2734 - val_accuracy: 0.9238\n",
      "Epoch 27/30\n",
      "1890/1890 [==============================] - 0s 230us/sample - loss: 0.2386 - accuracy: 0.9450 - val_loss: 0.2735 - val_accuracy: 0.9238\n",
      "Epoch 28/30\n",
      "1890/1890 [==============================] - 0s 228us/sample - loss: 0.2383 - accuracy: 0.9450 - val_loss: 0.2729 - val_accuracy: 0.9238\n",
      "Epoch 29/30\n",
      "1890/1890 [==============================] - 0s 215us/sample - loss: 0.2381 - accuracy: 0.9444 - val_loss: 0.2727 - val_accuracy: 0.9238\n",
      "Epoch 30/30\n",
      "1890/1890 [==============================] - 0s 187us/sample - loss: 0.2376 - accuracy: 0.9439 - val_loss: 0.2732 - val_accuracy: 0.9238\n"
     ]
    },
    {
     "data": {
      "text/plain": [
       "<tensorflow.python.keras.callbacks.History at 0x277789873c8>"
      ]
     },
     "execution_count": 14,
     "metadata": {},
     "output_type": "execute_result"
    }
   ],
   "source": [
    "# split occurs before the shuffle\n",
    "# validation only has of the last group\n",
    "# Need to shuffle it before running model fit\n",
    "\n",
    "model.fit(x=scaled_train_samples, y=train_labels, validation_split=0.1, batch_size=10, epochs=30, shuffle=True, verbose=1)"
   ]
  },
  {
   "cell_type": "markdown",
   "metadata": {},
   "source": [
    "# Predictions"
   ]
  },
  {
   "cell_type": "markdown",
   "metadata": {},
   "source": [
    "### Creating a test set for inference"
   ]
  },
  {
   "cell_type": "code",
   "execution_count": 49,
   "metadata": {},
   "outputs": [],
   "source": [
    "test_labels =  []\n",
    "test_samples = []\n",
    "\n",
    "for i in range(10):\n",
    "    # The 5% of younger individuals who did experience side effects\n",
    "    random_younger = randint(13,64)\n",
    "    test_samples.append(random_younger)\n",
    "    test_labels.append(1)\n",
    "\n",
    "    # The 5% of older individuals who did not experience side effects\n",
    "    random_older = randint(65,100)\n",
    "    test_samples.append(random_older)\n",
    "    test_labels.append(0)\n",
    "\n",
    "for i in range(200):\n",
    "    # The 95% of younger individuals who did not experience side effects\n",
    "    random_younger = randint(13,64)\n",
    "    test_samples.append(random_younger)\n",
    "    test_labels.append(0)\n",
    "\n",
    "    # The 95% of older individuals who did experience side effects\n",
    "    random_older = randint(65,100)\n",
    "    test_samples.append(random_older)\n",
    "    test_labels.append(1)"
   ]
  },
  {
   "cell_type": "code",
   "execution_count": 50,
   "metadata": {},
   "outputs": [],
   "source": [
    "# Prepared and processed just like the trained data was\n",
    "test_labels = np.array(test_labels)\n",
    "test_samples = np.array(test_samples)\n",
    "# don't shuffle?\n",
    "#test_labels, test_sample = shuffle(test_labels, test_samples)"
   ]
  },
  {
   "cell_type": "code",
   "execution_count": 51,
   "metadata": {},
   "outputs": [],
   "source": [
    "scaled_test_samples = scaler.fit_transform(test_samples.reshape(-1,1))"
   ]
  },
  {
   "cell_type": "markdown",
   "metadata": {},
   "source": [
    "# Predict on test data"
   ]
  },
  {
   "cell_type": "code",
   "execution_count": 52,
   "metadata": {},
   "outputs": [],
   "source": [
    "# predict on previous model created\n",
    "# no use for verbose =1\n",
    "prediction = model.predict(x=scaled_test_samples, batch_size=10, verbose=0)"
   ]
  },
  {
   "cell_type": "code",
   "execution_count": 53,
   "metadata": {},
   "outputs": [
    {
     "data": {
      "text/plain": [
       "array([[0.9714972 , 0.02850278],\n",
       "       [0.06488074, 0.9351193 ],\n",
       "       [0.59771925, 0.40228084],\n",
       "       [0.02103195, 0.9789681 ],\n",
       "       [0.97171414, 0.02828591],\n",
       "       [0.02103195, 0.9789681 ],\n",
       "       [0.8157104 , 0.18428959],\n",
       "       [0.06488074, 0.9351193 ],\n",
       "       [0.9747809 , 0.02521905]], dtype=float32)"
      ]
     },
     "execution_count": 53,
     "metadata": {},
     "output_type": "execute_result"
    }
   ],
   "source": [
    "# predicts that the model came up with for each sample\n",
    "# probability of patient having a side effect and not having a side effect\n",
    "# [0.9743916  0.02560844]  \n",
    "# No side effect is 0, and side effect is 1 index\n",
    "# 97% chance of having no side effect\n",
    "prediction[:9]"
   ]
  },
  {
   "cell_type": "code",
   "execution_count": 54,
   "metadata": {},
   "outputs": [],
   "source": [
    "# 0 or 1 for each test data\n",
    "rounded_predictions = np.argmax(prediction, axis=-1)"
   ]
  },
  {
   "cell_type": "code",
   "execution_count": 55,
   "metadata": {},
   "outputs": [
    {
     "data": {
      "text/plain": [
       "array([0, 1, 0, 1, 0, 1], dtype=int64)"
      ]
     },
     "execution_count": 55,
     "metadata": {},
     "output_type": "execute_result"
    }
   ],
   "source": [
    "rounded_predictions[:6]"
   ]
  },
  {
   "cell_type": "markdown",
   "metadata": {},
   "source": [
    "# Confusion Matrix"
   ]
  },
  {
   "cell_type": "code",
   "execution_count": 56,
   "metadata": {},
   "outputs": [],
   "source": [
    "%matplotlib inline\n",
    "from sklearn.metrics import confusion_matrix\n",
    "import itertools\n",
    "import matplotlib.pyplot as plt"
   ]
  },
  {
   "cell_type": "code",
   "execution_count": 57,
   "metadata": {},
   "outputs": [],
   "source": [
    "# pass in test labels and the predictions\n",
    "cm = confusion_matrix(y_true=test_labels, y_pred=rounded_prediction)"
   ]
  },
  {
   "cell_type": "code",
   "execution_count": 58,
   "metadata": {},
   "outputs": [],
   "source": [
    "# sklearn's confusion matrix copied from website\n",
    "def plot_confusion_matrix(cm, classes,\n",
    "                        normalize=False,\n",
    "                        title='Confusion matrix',\n",
    "                        cmap=plt.cm.Blues):\n",
    "    \"\"\"\n",
    "    This function prints and plots the confusion matrix.\n",
    "    Normalization can be applied by setting `normalize=True`.\n",
    "    \"\"\"\n",
    "    plt.imshow(cm, interpolation='nearest', cmap=cmap)\n",
    "    plt.title(title)\n",
    "    plt.colorbar()\n",
    "    tick_marks = np.arange(len(classes))\n",
    "    plt.xticks(tick_marks, classes, rotation=45)\n",
    "    plt.yticks(tick_marks, classes)\n",
    "\n",
    "    if normalize:\n",
    "        cm = cm.astype('float') / cm.sum(axis=1)[:, np.newaxis]\n",
    "        print(\"Normalized confusion matrix\")\n",
    "    else:\n",
    "        print('Confusion matrix, without normalization')\n",
    "\n",
    "    print(cm)\n",
    "\n",
    "    thresh = cm.max() / 2.\n",
    "    for i, j in itertools.product(range(cm.shape[0]), range(cm.shape[1])):\n",
    "        plt.text(j, i, cm[i, j],\n",
    "            horizontalalignment=\"center\",\n",
    "            color=\"white\" if cm[i, j] > thresh else \"black\")\n",
    "\n",
    "    plt.tight_layout()\n",
    "    plt.ylabel('True label')\n",
    "    plt.xlabel('Predicted label')"
   ]
  },
  {
   "cell_type": "code",
   "execution_count": 59,
   "metadata": {},
   "outputs": [
    {
     "name": "stdout",
     "output_type": "stream",
     "text": [
      "Confusion matrix, without normalization\n",
      "[[196  14]\n",
      " [ 10 200]]\n"
     ]
    },
    {
     "data": {
      "image/png": "[encoded data removed]",
      "text/plain": [
       "<Figure size 432x288 with 2 Axes>"
      ]
     },
     "metadata": {
      "needs_background": "light"
     },
     "output_type": "display_data"
    }
   ],
   "source": [
    "# define labels for matrix\n",
    "cm_plot_labels = ['no_side_effects', 'had_side_effects']\n",
    "# Call function and plot\n",
    "plot_confusion_matrix(cm=cm, classes=cm_plot_labels, title='Confusion Matrix of Predictions')\n",
    "# diagonal from top left to bottom right is correct predictions\n",
    "# other squares are false positive and false negative"
   ]
  },
  {
   "cell_type": "markdown",
   "metadata": {},
   "source": [
    "# Save and Load Model\n"
   ]
  },
  {
   "cell_type": "code",
   "execution_count": 60,
   "metadata": {},
   "outputs": [
    {
     "name": "stdout",
     "output_type": "stream",
     "text": [
      "Model: \"sequential\"\n",
      "_________________________________________________________________\n",
      "Layer (type)                 Output Shape              Param #   \n",
      "=================================================================\n",
      "dense (Dense)                (None, 16)                32        \n",
      "_________________________________________________________________\n",
      "dense_1 (Dense)              (None, 32)                544       \n",
      "_________________________________________________________________\n",
      "dense_2 (Dense)              (None, 2)                 66        \n",
      "=================================================================\n",
      "Total params: 642\n",
      "Trainable params: 642\n",
      "Non-trainable params: 0\n",
      "_________________________________________________________________\n"
     ]
    }
   ],
   "source": [
    "# previous model\n",
    "model.summary()"
   ]
  },
  {
   "cell_type": "markdown",
   "metadata": {},
   "source": [
    "### 1. model.save()"
   ]
  },
  {
   "cell_type": "code",
   "execution_count": 62,
   "metadata": {},
   "outputs": [],
   "source": [
    "# check if file exists and then save\n",
    "import os.path\n",
    "if os.path.isfile('models/medical_trial_model.h5') is False:\n",
    "    model.save('models/medical_trial_model.h5')"
   ]
  },
  {
   "cell_type": "markdown",
   "metadata": {},
   "source": [
    "Considered the most comprehensive\n",
    "Saves:\n",
    "- architecture of model\n",
    "- weights of model\n",
    "- training configurations (loss, optimizer)\n",
    "- state of optimizer, resume training where you left off - research this"
   ]
  },
  {
   "cell_type": "code",
   "execution_count": 63,
   "metadata": {},
   "outputs": [],
   "source": [
    "from tensorflow.keras.models import load_model\n",
    "new_model = load_model('models/medical_trial_model.h5')"
   ]
  },
  {
   "cell_type": "code",
   "execution_count": 64,
   "metadata": {},
   "outputs": [
    {
     "name": "stdout",
     "output_type": "stream",
     "text": [
      "Model: \"sequential\"\n",
      "_________________________________________________________________\n",
      "Layer (type)                 Output Shape              Param #   \n",
      "=================================================================\n",
      "dense (Dense)                (None, 16)                32        \n",
      "_________________________________________________________________\n",
      "dense_1 (Dense)              (None, 32)                544       \n",
      "_________________________________________________________________\n",
      "dense_2 (Dense)              (None, 2)                 66        \n",
      "=================================================================\n",
      "Total params: 642\n",
      "Trainable params: 642\n",
      "Non-trainable params: 0\n",
      "_________________________________________________________________\n"
     ]
    }
   ],
   "source": [
    "new_model.summary()\n",
    "# same architecture as before"
   ]
  },
  {
   "cell_type": "code",
   "execution_count": 65,
   "metadata": {},
   "outputs": [
    {
     "data": {
      "text/plain": [
       "[array([[ 0.6520407 , -0.3959513 , -0.02833846, -0.27684376, -0.42272258,\n",
       "          0.35438883,  0.24018747,  0.22748165, -0.4570169 ,  0.21407452,\n",
       "         -0.1858586 ,  0.36255807, -0.0175603 ,  0.7628906 ,  0.0746524 ,\n",
       "          0.45341265]], dtype=float32),\n",
       " array([-0.18991548,  0.        ,  0.1409936 ,  0.        ,  0.        ,\n",
       "        -0.15411395, -0.11195226, -0.10705955,  0.        , -0.09662023,\n",
       "         0.        ,  0.10106729,  0.        , -0.18939054,  0.22774158,\n",
       "        -0.17242807], dtype=float32),\n",
       " array([[ 6.05425894e-01,  1.08620450e-01, -6.11416221e-01,\n",
       "          5.20042598e-01, -2.50029355e-01, -2.75527179e-01,\n",
       "         -2.98288524e-01, -5.30053191e-02,  3.13555837e-01,\n",
       "         -2.57630348e-01,  3.61526549e-01, -1.83970571e-01,\n",
       "         -2.29368031e-01,  6.45496845e-01, -3.98391932e-01,\n",
       "         -2.82601148e-01, -4.96787548e-01,  3.58794510e-01,\n",
       "         -3.57280403e-01,  2.54009604e-01,  5.56577265e-01,\n",
       "         -3.39706019e-02,  3.40523720e-01,  8.53323713e-02,\n",
       "          3.91670950e-02,  1.11582115e-01,  1.30346164e-01,\n",
       "          5.14026284e-01, -1.07973263e-01,  2.94841051e-01,\n",
       "         -3.06392275e-02, -3.82290721e-01],\n",
       "        [-1.11876875e-01,  8.84809792e-02, -1.98012128e-01,\n",
       "         -1.89023718e-01,  1.21964544e-01, -3.64553928e-03,\n",
       "          8.31683874e-02, -3.52529883e-01,  1.75615400e-01,\n",
       "         -4.15030122e-02, -3.22421193e-01,  2.39185482e-01,\n",
       "         -2.57483095e-01,  3.44637722e-01, -5.88980317e-02,\n",
       "          2.10119575e-01,  2.77784139e-01,  5.45374453e-02,\n",
       "          1.56097710e-02,  1.76881999e-01, -1.21345922e-01,\n",
       "         -1.96179077e-01, -1.35505915e-01, -1.29509345e-01,\n",
       "          1.17033631e-01, -1.83798358e-01, -2.56139040e-01,\n",
       "         -1.83665261e-01,  2.41165787e-01,  2.43106753e-01,\n",
       "          2.96699405e-02,  2.32515901e-01],\n",
       "        [-2.41833076e-01,  1.76585689e-01,  3.65408152e-01,\n",
       "          1.32688075e-01,  2.81294316e-01,  3.50434691e-01,\n",
       "          1.99114442e-01,  2.54525363e-01,  2.04473361e-01,\n",
       "          8.42252932e-03,  2.49113426e-01, -1.53779089e-01,\n",
       "          3.26740623e-01, -2.63606738e-02,  3.75577599e-01,\n",
       "         -3.40853222e-02, -1.40220057e-02, -2.34186351e-01,\n",
       "          1.16104491e-01,  2.26604193e-01, -2.73547620e-01,\n",
       "          2.00815842e-01,  1.13359392e-01, -2.52034724e-01,\n",
       "         -1.03840739e-01, -1.85108885e-01, -1.66962475e-01,\n",
       "         -1.04483804e-02,  1.71680570e-01,  2.55990326e-01,\n",
       "          1.36488333e-01,  2.95839459e-01],\n",
       "        [ 3.49791199e-01,  1.48725539e-01,  3.04063112e-01,\n",
       "         -1.82870537e-01,  2.33200639e-01,  1.53323412e-02,\n",
       "          2.50717252e-01,  6.94453716e-02, -2.50749290e-01,\n",
       "          1.14106864e-01,  2.10333675e-01, -2.91267604e-01,\n",
       "          2.77950436e-01,  2.50092477e-01,  2.93680340e-01,\n",
       "         -2.53215820e-01, -1.05740041e-01,  1.01291001e-01,\n",
       "          1.41198099e-01,  2.30915099e-01, -2.19543263e-01,\n",
       "         -2.37581611e-01,  1.38332188e-01,  5.48254550e-02,\n",
       "          3.34277719e-01, -2.47606412e-01, -2.86702991e-01,\n",
       "          1.00913465e-01,  1.63433403e-01, -8.77703130e-02,\n",
       "          3.20079178e-01,  8.51425529e-03],\n",
       "        [ 1.25212878e-01,  8.80961716e-02, -2.83759713e-01,\n",
       "          7.31514096e-02,  4.07963991e-03,  1.73747540e-03,\n",
       "         -3.35417092e-01, -1.59177512e-01,  2.97835469e-03,\n",
       "          1.49456948e-01, -3.50727528e-01,  6.70261383e-02,\n",
       "          3.40841413e-02,  1.98022097e-01,  4.86577749e-02,\n",
       "          1.36349350e-01,  2.30677694e-01,  4.60350513e-02,\n",
       "         -2.00407252e-01, -5.38402498e-02, -2.60100007e-01,\n",
       "         -1.41262248e-01, -3.01204979e-01, -1.92268774e-01,\n",
       "         -1.84855744e-01,  2.24368900e-01,  6.30446970e-02,\n",
       "         -3.32770854e-01,  3.39446753e-01, -7.69061148e-02,\n",
       "          7.10675120e-02, -1.90636173e-01],\n",
       "        [ 3.30846608e-01,  4.52763200e-01, -2.62506038e-01,\n",
       "          3.68237674e-01,  2.94497222e-01, -2.42040336e-01,\n",
       "         -5.86251795e-01,  7.83623084e-02,  1.66480944e-01,\n",
       "          1.05360651e-03,  1.72057673e-02, -2.98348844e-01,\n",
       "         -3.77814144e-01,  6.17532253e-01,  1.45908920e-02,\n",
       "         -7.52105489e-02, -4.18967865e-02,  2.99791068e-01,\n",
       "         -2.56508082e-01,  2.54882246e-01, -1.43798562e-02,\n",
       "         -1.02055803e-01, -6.73743011e-03,  4.23981577e-01,\n",
       "         -4.11543965e-01, -1.95168585e-01,  1.37432531e-01,\n",
       "         -8.19916800e-02, -5.51387310e-01, -3.78492564e-01,\n",
       "         -6.54447138e-01, -4.98379260e-01],\n",
       "        [ 6.77716792e-01,  5.96197665e-01, -3.21252942e-01,\n",
       "          4.22421008e-01, -5.27949929e-02, -1.60822272e-02,\n",
       "         -6.11981869e-01,  4.41362113e-02,  1.64356157e-01,\n",
       "          2.21097380e-01,  8.31096545e-02, -7.09281862e-02,\n",
       "         -1.95762023e-01,  6.80660546e-01, -6.87059939e-01,\n",
       "         -2.89645225e-01, -3.84863913e-01,  5.36845207e-01,\n",
       "         -2.54772723e-01,  2.42867738e-01,  3.75698209e-01,\n",
       "          1.85187608e-01,  4.26492840e-01,  2.97019333e-01,\n",
       "         -2.17605934e-01,  4.68494594e-02,  2.88473755e-01,\n",
       "          4.43392843e-02, -8.45865533e-02, -1.04936846e-01,\n",
       "         -3.35967869e-01, -6.57282531e-01],\n",
       "        [ 2.64511704e-01,  1.44537911e-01, -4.42338377e-01,\n",
       "          5.07821321e-01, -2.56936461e-01, -1.54884264e-01,\n",
       "         -1.02269106e-01,  1.75275192e-01,  2.93791145e-01,\n",
       "         -9.16465521e-02,  3.76990378e-01,  1.28055364e-01,\n",
       "         -6.49749875e-01,  6.30303800e-01, -7.26089716e-01,\n",
       "         -3.75597656e-01, -7.02866673e-01,  4.84744847e-01,\n",
       "         -8.43762308e-02, -4.29327571e-04,  1.06441356e-01,\n",
       "          1.12666786e-01, -2.28905119e-02,  1.29765004e-01,\n",
       "         -7.64079869e-01,  2.06864387e-01, -2.31444180e-01,\n",
       "         -4.34553623e-02, -5.72575331e-01,  2.05765188e-01,\n",
       "         -1.74272925e-01, -4.20486599e-01],\n",
       "        [ 3.31277579e-01,  1.50277287e-01, -1.61485314e-01,\n",
       "          3.45438033e-01,  9.61734653e-02,  2.98327208e-02,\n",
       "         -3.08811545e-01, -3.17811430e-01, -7.53454268e-02,\n",
       "         -2.45805800e-01, -1.82808250e-01,  1.56762928e-01,\n",
       "          1.47372097e-01, -5.02911508e-02, -1.91004962e-01,\n",
       "         -1.01767451e-01, -1.18170068e-01, -4.94661629e-02,\n",
       "         -2.35339403e-01,  7.71922171e-02,  3.13461035e-01,\n",
       "         -9.49307084e-02, -7.26176798e-02, -3.01560611e-01,\n",
       "          6.34500682e-02, -1.68189272e-01, -3.38017553e-01,\n",
       "          3.24349910e-01,  4.60818410e-02,  1.55730397e-01,\n",
       "          5.39913774e-02, -1.11314803e-01],\n",
       "        [ 1.40982583e-01, -1.55203817e-02, -3.63743939e-02,\n",
       "          2.52132326e-01, -7.14951456e-02, -1.90994844e-01,\n",
       "         -2.67312378e-01,  5.09249233e-02, -2.71749377e-01,\n",
       "         -2.00254366e-01,  1.39201060e-01,  1.38082594e-01,\n",
       "         -3.82602513e-01,  6.15637243e-01,  1.51745275e-01,\n",
       "         -1.82241991e-01, -6.11469686e-01,  3.18204686e-02,\n",
       "         -4.79085684e-01,  1.63641363e-01,  2.23761350e-01,\n",
       "          3.05994004e-01,  4.61285710e-01,  2.61931509e-01,\n",
       "         -4.07088220e-01,  5.02339974e-02, -2.22274587e-01,\n",
       "          6.03789501e-02, -6.73179701e-02, -3.93913537e-01,\n",
       "          9.96147841e-02, -3.23419273e-01],\n",
       "        [ 3.81426513e-02, -1.11684337e-01,  2.45027095e-01,\n",
       "          1.28023148e-01, -1.69019401e-01, -2.07984239e-01,\n",
       "         -1.12455130e-01, -2.44659424e-01,  6.89197183e-02,\n",
       "          4.57558036e-02,  1.94896311e-01,  5.90611398e-02,\n",
       "         -5.20882010e-02, -2.75233507e-01,  3.06006879e-01,\n",
       "          1.57518595e-01, -1.74744204e-01,  5.94844520e-02,\n",
       "         -2.43539989e-01,  1.04211718e-01, -1.44007012e-01,\n",
       "         -3.14845711e-01,  3.48836929e-01,  3.47644418e-01,\n",
       "          2.48712331e-01, -1.02838635e-01,  1.18528605e-02,\n",
       "          4.22656238e-02,  1.79709524e-01,  2.44977146e-01,\n",
       "         -8.45072865e-02, -3.44037205e-01],\n",
       "        [ 3.88778389e-01,  2.01786906e-01,  2.19007060e-01,\n",
       "          4.19117987e-01, -2.61237025e-01, -3.01428676e-01,\n",
       "          2.31710732e-01,  4.39707302e-02, -1.69682279e-01,\n",
       "         -3.44396718e-02,  2.39624336e-01, -2.03940332e-01,\n",
       "          1.96083486e-01, -1.58088341e-01, -9.62335169e-02,\n",
       "          3.16374689e-01,  1.98212415e-01, -5.57148531e-02,\n",
       "          1.96191773e-01, -1.48934886e-01,  2.46428832e-01,\n",
       "          2.96545744e-01,  3.11142385e-01,  2.28440627e-01,\n",
       "          2.09615022e-01, -5.59882782e-02,  2.47414947e-01,\n",
       "          6.65018559e-02, -2.08937734e-01, -3.41085374e-01,\n",
       "          1.09986253e-01,  1.35627031e-01],\n",
       "        [ 3.00212950e-01, -6.67085946e-02, -1.02163196e-01,\n",
       "         -1.00435853e-01, -1.26573309e-01,  1.61868364e-01,\n",
       "         -3.22797149e-01, -3.51542562e-01,  1.15414768e-01,\n",
       "         -1.13611206e-01, -2.98201770e-01,  1.16923362e-01,\n",
       "          1.28982514e-01, -6.01104200e-02, -1.36947244e-01,\n",
       "          8.33086371e-02,  1.28529608e-01, -7.64402151e-02,\n",
       "          2.30313838e-02,  3.14060599e-01, -5.07899821e-02,\n",
       "          1.95594162e-01,  2.87880510e-01,  3.25049669e-01,\n",
       "         -9.59306061e-02,  5.17000258e-02, -1.58019498e-01,\n",
       "          1.80566818e-01,  1.37938887e-01, -4.58738208e-02,\n",
       "         -1.05587542e-01, -2.97310948e-03],\n",
       "        [ 4.32284065e-02,  1.13791674e-01, -4.93964583e-01,\n",
       "          1.37033295e-02, -2.57175505e-01,  3.23295504e-01,\n",
       "         -5.04244864e-01, -8.41329694e-02,  5.36537543e-02,\n",
       "         -2.38461673e-01,  4.49602097e-01, -3.49815458e-01,\n",
       "         -3.12832415e-01,  5.63868105e-01, -2.71513283e-01,\n",
       "         -4.95818794e-01, -1.41714020e-02,  5.28158128e-01,\n",
       "         -3.27219695e-01, -2.21523896e-01,  1.61735192e-01,\n",
       "         -2.21153095e-01,  3.43684345e-01,  5.27153671e-01,\n",
       "         -5.69231451e-01,  2.09951356e-01, -3.62876445e-01,\n",
       "          5.06930113e-01, -2.01257482e-01,  2.15624750e-01,\n",
       "         -3.09789628e-01, -3.22978079e-01],\n",
       "        [ 1.32877976e-01,  6.76200166e-02,  3.94953102e-01,\n",
       "         -1.40766561e-01, -3.19055855e-01, -2.48297185e-01,\n",
       "          2.18441576e-01, -1.74084753e-01, -2.14228928e-01,\n",
       "          2.60268986e-01,  5.72042130e-02, -1.56862050e-01,\n",
       "         -5.49736246e-02,  2.84807235e-01,  5.22446521e-02,\n",
       "         -4.90588173e-02,  3.43247265e-01,  1.39093801e-01,\n",
       "          3.07228774e-01, -1.66760162e-01,  1.86345771e-01,\n",
       "         -2.50844598e-01, -3.43033075e-01, -2.61636853e-01,\n",
       "          2.70266205e-01, -3.05580109e-01,  9.70040709e-02,\n",
       "         -1.85762405e-01,  2.24700689e-01, -2.46456161e-01,\n",
       "          1.35968700e-01,  2.65818715e-01],\n",
       "        [ 2.13856503e-01,  5.86997509e-01, -3.33972842e-01,\n",
       "          2.37559631e-01, -1.59004793e-01,  8.28371048e-02,\n",
       "         -9.85902175e-02,  3.02647233e-01, -5.21277972e-02,\n",
       "         -3.12771976e-01,  3.23308825e-01, -7.89989531e-02,\n",
       "          3.53979245e-02,  5.91928959e-02, -2.40694538e-01,\n",
       "         -1.56238049e-01, -6.62409365e-01,  3.89006525e-01,\n",
       "         -4.03887600e-01,  3.47988084e-02,  5.99151254e-01,\n",
       "         -2.31926411e-01,  1.66014079e-02,  3.06755453e-01,\n",
       "         -5.24757087e-01, -1.39231719e-02, -2.88225502e-01,\n",
       "          7.48497024e-02, -5.31207263e-01,  2.59683728e-01,\n",
       "         -5.73371768e-01, -2.60176063e-01]], dtype=float32),\n",
       " array([-0.16114989, -0.14426085,  0.19542366, -0.14687066,  0.        ,\n",
       "         0.        ,  0.18493812, -0.02073405, -0.02389534, -0.06061317,\n",
       "        -0.1431625 ,  0.        ,  0.14911427, -0.15385062,  0.24947846,\n",
       "         0.20372461,  0.14333263, -0.10881707,  0.1423371 , -0.01721357,\n",
       "        -0.14227019, -0.03429949, -0.09497447, -0.06927651,  0.2166217 ,\n",
       "        -0.03218404, -0.05984624, -0.07864267,  0.23519446, -0.02638501,\n",
       "         0.16703345,  0.19501436], dtype=float32),\n",
       " array([[-0.66450447, -0.05801525],\n",
       "        [-0.12539326,  0.6656517 ],\n",
       "        [ 0.4103548 , -0.6663813 ],\n",
       "        [-0.0834635 ,  0.555576  ],\n",
       "        [-0.20228164, -0.05905268],\n",
       "        [ 0.05895373,  0.26966456],\n",
       "        [ 0.6988212 , -0.27209994],\n",
       "        [ 0.3473618 ,  0.149968  ],\n",
       "        [ 0.28609177, -0.3180269 ],\n",
       "        [-0.21589614,  0.1090893 ],\n",
       "        [-0.58703554,  0.35660514],\n",
       "        [-0.13021863, -0.14670256],\n",
       "        [ 0.46624658, -0.5424755 ],\n",
       "        [-0.3381978 ,  0.19398527],\n",
       "        [ 0.32083106, -0.8456162 ],\n",
       "        [ 0.4160966 , -0.72477764],\n",
       "        [ 0.2843523 , -0.6333313 ],\n",
       "        [-0.2576529 ,  0.35300633],\n",
       "        [ 0.6718225 , -0.19830316],\n",
       "        [ 0.35546464,  0.23725776],\n",
       "        [-0.3612005 ,  0.6395703 ],\n",
       "        [-0.03094408, -0.01105655],\n",
       "        [-0.6783268 ,  0.22429056],\n",
       "        [-0.4871206 ,  0.7031215 ],\n",
       "        [ 0.91780657, -0.25839958],\n",
       "        [ 0.37915632, -0.1743215 ],\n",
       "        [-0.21656917,  0.00406528],\n",
       "        [-0.49047965,  0.57403183],\n",
       "        [ 0.5301963 , -0.63757664],\n",
       "        [ 0.22530825, -0.36099926],\n",
       "        [ 0.75031286, -0.30977857],\n",
       "        [ 0.7440329 , -0.71830684]], dtype=float32),\n",
       " array([ 0.11239565, -0.11239567], dtype=float32)]"
      ]
     },
     "execution_count": 65,
     "metadata": {},
     "output_type": "execute_result"
    }
   ],
   "source": [
    "# check weights\n",
    "new_model.get_weights()"
   ]
  },
  {
   "cell_type": "code",
   "execution_count": 68,
   "metadata": {},
   "outputs": [
    {
     "data": {
      "text/plain": [
       "<tensorflow.python.keras.optimizer_v2.adam.Adam at 0x2777a746a48>"
      ]
     },
     "execution_count": 68,
     "metadata": {},
     "output_type": "execute_result"
    }
   ],
   "source": [
    "new_model.optimizer"
   ]
  },
  {
   "cell_type": "markdown",
   "metadata": {},
   "source": [
    "### 2. model.to_json()"
   ]
  },
  {
   "cell_type": "markdown",
   "metadata": {},
   "source": [
    "Only save the model's architecture and save as a json string"
   ]
  },
  {
   "cell_type": "code",
   "execution_count": 69,
   "metadata": {},
   "outputs": [],
   "source": [
    "json_string = model.to_json()\n",
    "# save as yaml in similair way\n",
    "# yaml_string = model.to_yaml()"
   ]
  },
  {
   "cell_type": "code",
   "execution_count": 70,
   "metadata": {},
   "outputs": [
    {
     "data": {
      "text/plain": [
       "'{\"class_name\": \"Sequential\", \"config\": {\"name\": \"sequential\", \"layers\": [{\"class_name\": \"Dense\", \"config\": {\"name\": \"dense\", \"trainable\": true, \"batch_input_shape\": [null, 1], \"dtype\": \"float32\", \"units\": 16, \"activation\": \"relu\", \"use_bias\": true, \"kernel_initializer\": {\"class_name\": \"GlorotUniform\", \"config\": {\"seed\": null}}, \"bias_initializer\": {\"class_name\": \"Zeros\", \"config\": {}}, \"kernel_regularizer\": null, \"bias_regularizer\": null, \"activity_regularizer\": null, \"kernel_constraint\": null, \"bias_constraint\": null}}, {\"class_name\": \"Dense\", \"config\": {\"name\": \"dense_1\", \"trainable\": true, \"dtype\": \"float32\", \"units\": 32, \"activation\": \"relu\", \"use_bias\": true, \"kernel_initializer\": {\"class_name\": \"GlorotUniform\", \"config\": {\"seed\": null}}, \"bias_initializer\": {\"class_name\": \"Zeros\", \"config\": {}}, \"kernel_regularizer\": null, \"bias_regularizer\": null, \"activity_regularizer\": null, \"kernel_constraint\": null, \"bias_constraint\": null}}, {\"class_name\": \"Dense\", \"config\": {\"name\": \"dense_2\", \"trainable\": true, \"dtype\": \"float32\", \"units\": 2, \"activation\": \"softmax\", \"use_bias\": true, \"kernel_initializer\": {\"class_name\": \"GlorotUniform\", \"config\": {\"seed\": null}}, \"bias_initializer\": {\"class_name\": \"Zeros\", \"config\": {}}, \"kernel_regularizer\": null, \"bias_regularizer\": null, \"activity_regularizer\": null, \"kernel_constraint\": null, \"bias_constraint\": null}}]}, \"keras_version\": \"2.2.4-tf\", \"backend\": \"tensorflow\"}'"
      ]
     },
     "execution_count": 70,
     "metadata": {},
     "output_type": "execute_result"
    }
   ],
   "source": [
    "json_string"
   ]
  },
  {
   "cell_type": "code",
   "execution_count": 71,
   "metadata": {},
   "outputs": [],
   "source": [
    "# create new model with old model's architecture, would need to retrain and optimizer and loss\n",
    "# model reconstruction from JSON\n",
    "from tensorflow.keras.models import model_from_json\n",
    "model_architecture = model_from_json(json_string)\n",
    "\n",
    "# Same thing with yaml\n",
    "# from tensorflow.keras.models import model_from_yaml\n",
    "# model_architecture = model_from_yaml(yaml_string)"
   ]
  },
  {
   "cell_type": "code",
   "execution_count": 73,
   "metadata": {},
   "outputs": [
    {
     "name": "stdout",
     "output_type": "stream",
     "text": [
      "Model: \"sequential\"\n",
      "_________________________________________________________________\n",
      "Layer (type)                 Output Shape              Param #   \n",
      "=================================================================\n",
      "dense (Dense)                (None, 16)                32        \n",
      "_________________________________________________________________\n",
      "dense_1 (Dense)              (None, 32)                544       \n",
      "_________________________________________________________________\n",
      "dense_2 (Dense)              (None, 2)                 66        \n",
      "=================================================================\n",
      "Total params: 642\n",
      "Trainable params: 642\n",
      "Non-trainable params: 0\n",
      "_________________________________________________________________\n"
     ]
    }
   ],
   "source": [
    "# identical to architecture of the og model\n",
    "model_architecture.summary()"
   ]
  },
  {
   "cell_type": "markdown",
   "metadata": {},
   "source": [
    "### 3. model.save_weights()"
   ]
  },
  {
   "cell_type": "markdown",
   "metadata": {},
   "source": [
    "## Only save the weights of a model, not the training configurations or the architecture"
   ]
  },
  {
   "cell_type": "code",
   "execution_count": 76,
   "metadata": {},
   "outputs": [],
   "source": [
    "# check if file exists and then save\n",
    "import os.path\n",
    "if os.path.isfile('models/model_weights.h5') is False:\n",
    "    model.save_weights('models/model_weights.h5')"
   ]
  },
  {
   "cell_type": "code",
   "execution_count": 77,
   "metadata": {},
   "outputs": [],
   "source": [
    "# create the new model with the same architecture\n",
    "model2 = Sequential([\n",
    "    Dense(units=16, input_shape=(1,), activation='relu'),\n",
    "    Dense(units=32, activation='relu'),\n",
    "    Dense(units=2, activation='softmax')\n",
    "])"
   ]
  },
  {
   "cell_type": "code",
   "execution_count": 78,
   "metadata": {},
   "outputs": [],
   "source": [
    "model2.load_weights('models/model_weights.h5')"
   ]
  },
  {
   "cell_type": "code",
   "execution_count": 79,
   "metadata": {},
   "outputs": [
    {
     "data": {
      "text/plain": [
       "[array([[ 0.6520407 , -0.3959513 , -0.02833846, -0.27684376, -0.42272258,\n",
       "          0.35438883,  0.24018747,  0.22748165, -0.4570169 ,  0.21407452,\n",
       "         -0.1858586 ,  0.36255807, -0.0175603 ,  0.7628906 ,  0.0746524 ,\n",
       "          0.45341265]], dtype=float32),\n",
       " array([-0.18991548,  0.        ,  0.1409936 ,  0.        ,  0.        ,\n",
       "        -0.15411395, -0.11195226, -0.10705955,  0.        , -0.09662023,\n",
       "         0.        ,  0.10106729,  0.        , -0.18939054,  0.22774158,\n",
       "        -0.17242807], dtype=float32),\n",
       " array([[ 6.05425894e-01,  1.08620450e-01, -6.11416221e-01,\n",
       "          5.20042598e-01, -2.50029355e-01, -2.75527179e-01,\n",
       "         -2.98288524e-01, -5.30053191e-02,  3.13555837e-01,\n",
       "         -2.57630348e-01,  3.61526549e-01, -1.83970571e-01,\n",
       "         -2.29368031e-01,  6.45496845e-01, -3.98391932e-01,\n",
       "         -2.82601148e-01, -4.96787548e-01,  3.58794510e-01,\n",
       "         -3.57280403e-01,  2.54009604e-01,  5.56577265e-01,\n",
       "         -3.39706019e-02,  3.40523720e-01,  8.53323713e-02,\n",
       "          3.91670950e-02,  1.11582115e-01,  1.30346164e-01,\n",
       "          5.14026284e-01, -1.07973263e-01,  2.94841051e-01,\n",
       "         -3.06392275e-02, -3.82290721e-01],\n",
       "        [-1.11876875e-01,  8.84809792e-02, -1.98012128e-01,\n",
       "         -1.89023718e-01,  1.21964544e-01, -3.64553928e-03,\n",
       "          8.31683874e-02, -3.52529883e-01,  1.75615400e-01,\n",
       "         -4.15030122e-02, -3.22421193e-01,  2.39185482e-01,\n",
       "         -2.57483095e-01,  3.44637722e-01, -5.88980317e-02,\n",
       "          2.10119575e-01,  2.77784139e-01,  5.45374453e-02,\n",
       "          1.56097710e-02,  1.76881999e-01, -1.21345922e-01,\n",
       "         -1.96179077e-01, -1.35505915e-01, -1.29509345e-01,\n",
       "          1.17033631e-01, -1.83798358e-01, -2.56139040e-01,\n",
       "         -1.83665261e-01,  2.41165787e-01,  2.43106753e-01,\n",
       "          2.96699405e-02,  2.32515901e-01],\n",
       "        [-2.41833076e-01,  1.76585689e-01,  3.65408152e-01,\n",
       "          1.32688075e-01,  2.81294316e-01,  3.50434691e-01,\n",
       "          1.99114442e-01,  2.54525363e-01,  2.04473361e-01,\n",
       "          8.42252932e-03,  2.49113426e-01, -1.53779089e-01,\n",
       "          3.26740623e-01, -2.63606738e-02,  3.75577599e-01,\n",
       "         -3.40853222e-02, -1.40220057e-02, -2.34186351e-01,\n",
       "          1.16104491e-01,  2.26604193e-01, -2.73547620e-01,\n",
       "          2.00815842e-01,  1.13359392e-01, -2.52034724e-01,\n",
       "         -1.03840739e-01, -1.85108885e-01, -1.66962475e-01,\n",
       "         -1.04483804e-02,  1.71680570e-01,  2.55990326e-01,\n",
       "          1.36488333e-01,  2.95839459e-01],\n",
       "        [ 3.49791199e-01,  1.48725539e-01,  3.04063112e-01,\n",
       "         -1.82870537e-01,  2.33200639e-01,  1.53323412e-02,\n",
       "          2.50717252e-01,  6.94453716e-02, -2.50749290e-01,\n",
       "          1.14106864e-01,  2.10333675e-01, -2.91267604e-01,\n",
       "          2.77950436e-01,  2.50092477e-01,  2.93680340e-01,\n",
       "         -2.53215820e-01, -1.05740041e-01,  1.01291001e-01,\n",
       "          1.41198099e-01,  2.30915099e-01, -2.19543263e-01,\n",
       "         -2.37581611e-01,  1.38332188e-01,  5.48254550e-02,\n",
       "          3.34277719e-01, -2.47606412e-01, -2.86702991e-01,\n",
       "          1.00913465e-01,  1.63433403e-01, -8.77703130e-02,\n",
       "          3.20079178e-01,  8.51425529e-03],\n",
       "        [ 1.25212878e-01,  8.80961716e-02, -2.83759713e-01,\n",
       "          7.31514096e-02,  4.07963991e-03,  1.73747540e-03,\n",
       "         -3.35417092e-01, -1.59177512e-01,  2.97835469e-03,\n",
       "          1.49456948e-01, -3.50727528e-01,  6.70261383e-02,\n",
       "          3.40841413e-02,  1.98022097e-01,  4.86577749e-02,\n",
       "          1.36349350e-01,  2.30677694e-01,  4.60350513e-02,\n",
       "         -2.00407252e-01, -5.38402498e-02, -2.60100007e-01,\n",
       "         -1.41262248e-01, -3.01204979e-01, -1.92268774e-01,\n",
       "         -1.84855744e-01,  2.24368900e-01,  6.30446970e-02,\n",
       "         -3.32770854e-01,  3.39446753e-01, -7.69061148e-02,\n",
       "          7.10675120e-02, -1.90636173e-01],\n",
       "        [ 3.30846608e-01,  4.52763200e-01, -2.62506038e-01,\n",
       "          3.68237674e-01,  2.94497222e-01, -2.42040336e-01,\n",
       "         -5.86251795e-01,  7.83623084e-02,  1.66480944e-01,\n",
       "          1.05360651e-03,  1.72057673e-02, -2.98348844e-01,\n",
       "         -3.77814144e-01,  6.17532253e-01,  1.45908920e-02,\n",
       "         -7.52105489e-02, -4.18967865e-02,  2.99791068e-01,\n",
       "         -2.56508082e-01,  2.54882246e-01, -1.43798562e-02,\n",
       "         -1.02055803e-01, -6.73743011e-03,  4.23981577e-01,\n",
       "         -4.11543965e-01, -1.95168585e-01,  1.37432531e-01,\n",
       "         -8.19916800e-02, -5.51387310e-01, -3.78492564e-01,\n",
       "         -6.54447138e-01, -4.98379260e-01],\n",
       "        [ 6.77716792e-01,  5.96197665e-01, -3.21252942e-01,\n",
       "          4.22421008e-01, -5.27949929e-02, -1.60822272e-02,\n",
       "         -6.11981869e-01,  4.41362113e-02,  1.64356157e-01,\n",
       "          2.21097380e-01,  8.31096545e-02, -7.09281862e-02,\n",
       "         -1.95762023e-01,  6.80660546e-01, -6.87059939e-01,\n",
       "         -2.89645225e-01, -3.84863913e-01,  5.36845207e-01,\n",
       "         -2.54772723e-01,  2.42867738e-01,  3.75698209e-01,\n",
       "          1.85187608e-01,  4.26492840e-01,  2.97019333e-01,\n",
       "         -2.17605934e-01,  4.68494594e-02,  2.88473755e-01,\n",
       "          4.43392843e-02, -8.45865533e-02, -1.04936846e-01,\n",
       "         -3.35967869e-01, -6.57282531e-01],\n",
       "        [ 2.64511704e-01,  1.44537911e-01, -4.42338377e-01,\n",
       "          5.07821321e-01, -2.56936461e-01, -1.54884264e-01,\n",
       "         -1.02269106e-01,  1.75275192e-01,  2.93791145e-01,\n",
       "         -9.16465521e-02,  3.76990378e-01,  1.28055364e-01,\n",
       "         -6.49749875e-01,  6.30303800e-01, -7.26089716e-01,\n",
       "         -3.75597656e-01, -7.02866673e-01,  4.84744847e-01,\n",
       "         -8.43762308e-02, -4.29327571e-04,  1.06441356e-01,\n",
       "          1.12666786e-01, -2.28905119e-02,  1.29765004e-01,\n",
       "         -7.64079869e-01,  2.06864387e-01, -2.31444180e-01,\n",
       "         -4.34553623e-02, -5.72575331e-01,  2.05765188e-01,\n",
       "         -1.74272925e-01, -4.20486599e-01],\n",
       "        [ 3.31277579e-01,  1.50277287e-01, -1.61485314e-01,\n",
       "          3.45438033e-01,  9.61734653e-02,  2.98327208e-02,\n",
       "         -3.08811545e-01, -3.17811430e-01, -7.53454268e-02,\n",
       "         -2.45805800e-01, -1.82808250e-01,  1.56762928e-01,\n",
       "          1.47372097e-01, -5.02911508e-02, -1.91004962e-01,\n",
       "         -1.01767451e-01, -1.18170068e-01, -4.94661629e-02,\n",
       "         -2.35339403e-01,  7.71922171e-02,  3.13461035e-01,\n",
       "         -9.49307084e-02, -7.26176798e-02, -3.01560611e-01,\n",
       "          6.34500682e-02, -1.68189272e-01, -3.38017553e-01,\n",
       "          3.24349910e-01,  4.60818410e-02,  1.55730397e-01,\n",
       "          5.39913774e-02, -1.11314803e-01],\n",
       "        [ 1.40982583e-01, -1.55203817e-02, -3.63743939e-02,\n",
       "          2.52132326e-01, -7.14951456e-02, -1.90994844e-01,\n",
       "         -2.67312378e-01,  5.09249233e-02, -2.71749377e-01,\n",
       "         -2.00254366e-01,  1.39201060e-01,  1.38082594e-01,\n",
       "         -3.82602513e-01,  6.15637243e-01,  1.51745275e-01,\n",
       "         -1.82241991e-01, -6.11469686e-01,  3.18204686e-02,\n",
       "         -4.79085684e-01,  1.63641363e-01,  2.23761350e-01,\n",
       "          3.05994004e-01,  4.61285710e-01,  2.61931509e-01,\n",
       "         -4.07088220e-01,  5.02339974e-02, -2.22274587e-01,\n",
       "          6.03789501e-02, -6.73179701e-02, -3.93913537e-01,\n",
       "          9.96147841e-02, -3.23419273e-01],\n",
       "        [ 3.81426513e-02, -1.11684337e-01,  2.45027095e-01,\n",
       "          1.28023148e-01, -1.69019401e-01, -2.07984239e-01,\n",
       "         -1.12455130e-01, -2.44659424e-01,  6.89197183e-02,\n",
       "          4.57558036e-02,  1.94896311e-01,  5.90611398e-02,\n",
       "         -5.20882010e-02, -2.75233507e-01,  3.06006879e-01,\n",
       "          1.57518595e-01, -1.74744204e-01,  5.94844520e-02,\n",
       "         -2.43539989e-01,  1.04211718e-01, -1.44007012e-01,\n",
       "         -3.14845711e-01,  3.48836929e-01,  3.47644418e-01,\n",
       "          2.48712331e-01, -1.02838635e-01,  1.18528605e-02,\n",
       "          4.22656238e-02,  1.79709524e-01,  2.44977146e-01,\n",
       "         -8.45072865e-02, -3.44037205e-01],\n",
       "        [ 3.88778389e-01,  2.01786906e-01,  2.19007060e-01,\n",
       "          4.19117987e-01, -2.61237025e-01, -3.01428676e-01,\n",
       "          2.31710732e-01,  4.39707302e-02, -1.69682279e-01,\n",
       "         -3.44396718e-02,  2.39624336e-01, -2.03940332e-01,\n",
       "          1.96083486e-01, -1.58088341e-01, -9.62335169e-02,\n",
       "          3.16374689e-01,  1.98212415e-01, -5.57148531e-02,\n",
       "          1.96191773e-01, -1.48934886e-01,  2.46428832e-01,\n",
       "          2.96545744e-01,  3.11142385e-01,  2.28440627e-01,\n",
       "          2.09615022e-01, -5.59882782e-02,  2.47414947e-01,\n",
       "          6.65018559e-02, -2.08937734e-01, -3.41085374e-01,\n",
       "          1.09986253e-01,  1.35627031e-01],\n",
       "        [ 3.00212950e-01, -6.67085946e-02, -1.02163196e-01,\n",
       "         -1.00435853e-01, -1.26573309e-01,  1.61868364e-01,\n",
       "         -3.22797149e-01, -3.51542562e-01,  1.15414768e-01,\n",
       "         -1.13611206e-01, -2.98201770e-01,  1.16923362e-01,\n",
       "          1.28982514e-01, -6.01104200e-02, -1.36947244e-01,\n",
       "          8.33086371e-02,  1.28529608e-01, -7.64402151e-02,\n",
       "          2.30313838e-02,  3.14060599e-01, -5.07899821e-02,\n",
       "          1.95594162e-01,  2.87880510e-01,  3.25049669e-01,\n",
       "         -9.59306061e-02,  5.17000258e-02, -1.58019498e-01,\n",
       "          1.80566818e-01,  1.37938887e-01, -4.58738208e-02,\n",
       "         -1.05587542e-01, -2.97310948e-03],\n",
       "        [ 4.32284065e-02,  1.13791674e-01, -4.93964583e-01,\n",
       "          1.37033295e-02, -2.57175505e-01,  3.23295504e-01,\n",
       "         -5.04244864e-01, -8.41329694e-02,  5.36537543e-02,\n",
       "         -2.38461673e-01,  4.49602097e-01, -3.49815458e-01,\n",
       "         -3.12832415e-01,  5.63868105e-01, -2.71513283e-01,\n",
       "         -4.95818794e-01, -1.41714020e-02,  5.28158128e-01,\n",
       "         -3.27219695e-01, -2.21523896e-01,  1.61735192e-01,\n",
       "         -2.21153095e-01,  3.43684345e-01,  5.27153671e-01,\n",
       "         -5.69231451e-01,  2.09951356e-01, -3.62876445e-01,\n",
       "          5.06930113e-01, -2.01257482e-01,  2.15624750e-01,\n",
       "         -3.09789628e-01, -3.22978079e-01],\n",
       "        [ 1.32877976e-01,  6.76200166e-02,  3.94953102e-01,\n",
       "         -1.40766561e-01, -3.19055855e-01, -2.48297185e-01,\n",
       "          2.18441576e-01, -1.74084753e-01, -2.14228928e-01,\n",
       "          2.60268986e-01,  5.72042130e-02, -1.56862050e-01,\n",
       "         -5.49736246e-02,  2.84807235e-01,  5.22446521e-02,\n",
       "         -4.90588173e-02,  3.43247265e-01,  1.39093801e-01,\n",
       "          3.07228774e-01, -1.66760162e-01,  1.86345771e-01,\n",
       "         -2.50844598e-01, -3.43033075e-01, -2.61636853e-01,\n",
       "          2.70266205e-01, -3.05580109e-01,  9.70040709e-02,\n",
       "         -1.85762405e-01,  2.24700689e-01, -2.46456161e-01,\n",
       "          1.35968700e-01,  2.65818715e-01],\n",
       "        [ 2.13856503e-01,  5.86997509e-01, -3.33972842e-01,\n",
       "          2.37559631e-01, -1.59004793e-01,  8.28371048e-02,\n",
       "         -9.85902175e-02,  3.02647233e-01, -5.21277972e-02,\n",
       "         -3.12771976e-01,  3.23308825e-01, -7.89989531e-02,\n",
       "          3.53979245e-02,  5.91928959e-02, -2.40694538e-01,\n",
       "         -1.56238049e-01, -6.62409365e-01,  3.89006525e-01,\n",
       "         -4.03887600e-01,  3.47988084e-02,  5.99151254e-01,\n",
       "         -2.31926411e-01,  1.66014079e-02,  3.06755453e-01,\n",
       "         -5.24757087e-01, -1.39231719e-02, -2.88225502e-01,\n",
       "          7.48497024e-02, -5.31207263e-01,  2.59683728e-01,\n",
       "         -5.73371768e-01, -2.60176063e-01]], dtype=float32),\n",
       " array([-0.16114989, -0.14426085,  0.19542366, -0.14687066,  0.        ,\n",
       "         0.        ,  0.18493812, -0.02073405, -0.02389534, -0.06061317,\n",
       "        -0.1431625 ,  0.        ,  0.14911427, -0.15385062,  0.24947846,\n",
       "         0.20372461,  0.14333263, -0.10881707,  0.1423371 , -0.01721357,\n",
       "        -0.14227019, -0.03429949, -0.09497447, -0.06927651,  0.2166217 ,\n",
       "        -0.03218404, -0.05984624, -0.07864267,  0.23519446, -0.02638501,\n",
       "         0.16703345,  0.19501436], dtype=float32),\n",
       " array([[-0.66450447, -0.05801525],\n",
       "        [-0.12539326,  0.6656517 ],\n",
       "        [ 0.4103548 , -0.6663813 ],\n",
       "        [-0.0834635 ,  0.555576  ],\n",
       "        [-0.20228164, -0.05905268],\n",
       "        [ 0.05895373,  0.26966456],\n",
       "        [ 0.6988212 , -0.27209994],\n",
       "        [ 0.3473618 ,  0.149968  ],\n",
       "        [ 0.28609177, -0.3180269 ],\n",
       "        [-0.21589614,  0.1090893 ],\n",
       "        [-0.58703554,  0.35660514],\n",
       "        [-0.13021863, -0.14670256],\n",
       "        [ 0.46624658, -0.5424755 ],\n",
       "        [-0.3381978 ,  0.19398527],\n",
       "        [ 0.32083106, -0.8456162 ],\n",
       "        [ 0.4160966 , -0.72477764],\n",
       "        [ 0.2843523 , -0.6333313 ],\n",
       "        [-0.2576529 ,  0.35300633],\n",
       "        [ 0.6718225 , -0.19830316],\n",
       "        [ 0.35546464,  0.23725776],\n",
       "        [-0.3612005 ,  0.6395703 ],\n",
       "        [-0.03094408, -0.01105655],\n",
       "        [-0.6783268 ,  0.22429056],\n",
       "        [-0.4871206 ,  0.7031215 ],\n",
       "        [ 0.91780657, -0.25839958],\n",
       "        [ 0.37915632, -0.1743215 ],\n",
       "        [-0.21656917,  0.00406528],\n",
       "        [-0.49047965,  0.57403183],\n",
       "        [ 0.5301963 , -0.63757664],\n",
       "        [ 0.22530825, -0.36099926],\n",
       "        [ 0.75031286, -0.30977857],\n",
       "        [ 0.7440329 , -0.71830684]], dtype=float32),\n",
       " array([ 0.11239565, -0.11239567], dtype=float32)]"
      ]
     },
     "execution_count": 79,
     "metadata": {},
     "output_type": "execute_result"
    }
   ],
   "source": [
    "model2.get_weights()"
   ]
  },
  {
   "cell_type": "code",
   "execution_count": null,
   "metadata": {},
   "outputs": [],
   "source": []
  },
  {
   "cell_type": "code",
   "execution_count": null,
   "metadata": {},
   "outputs": [],
   "source": []
  },
  {
   "cell_type": "code",
   "execution_count": null,
   "metadata": {},
   "outputs": [],
   "source": []
  },
  {
   "cell_type": "code",
   "execution_count": null,
   "metadata": {},
   "outputs": [],
   "source": []
  },
  {
   "cell_type": "code",
   "execution_count": null,
   "metadata": {},
   "outputs": [],
   "source": []
  },
  {
   "cell_type": "code",
   "execution_count": null,
   "metadata": {},
   "outputs": [],
   "source": []
  },
  {
   "cell_type": "code",
   "execution_count": null,
   "metadata": {},
   "outputs": [],
   "source": []
  }
 ],
 "metadata": {
  "kernelspec": {
   "display_name": "Python 3",
   "language": "python",
   "name": "python3"
  },
  "language_info": {
   "codemirror_mode": {
    "name": "ipython",
    "version": 3
   },
   "file_extension": ".py",
   "mimetype": "text/x-python",
   "name": "python",
   "nbconvert_exporter": "python",
   "pygments_lexer": "ipython3",
   "version": "3.8.8"
  }
 },
 "nbformat": 4,
 "nbformat_minor": 2
}
