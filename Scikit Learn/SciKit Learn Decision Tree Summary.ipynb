{
 "cells": [
  {
   "cell_type": "markdown",
   "id": "862aaeba",
   "metadata": {},
   "source": [
    "## 1. Using Pandas to Prepare Data\n",
    "Import pandas and edit the dataframe\n",
    "\n",
    "Steps:\n",
    "1. Convert csv to dataframe\n",
    "2. Clean out the empty data\n",
    "3. Check describe, head, columns\n",
    "4. Split data into X, y\n",
    "5. Split data into training and testing"
   ]
  },
  {
   "cell_type": "code",
   "execution_count": 2,
   "id": "11435e2d",
   "metadata": {},
   "outputs": [],
   "source": [
    "import pandas as pd # import pandas"
   ]
  },
  {
   "cell_type": "code",
   "execution_count": 3,
   "id": "a92f5d0e",
   "metadata": {},
   "outputs": [],
   "source": [
    "data = pd.read_csv('pima-indians-diabetes.csv') # convert csv to dataframe so we can work with it"
   ]
  },
  {
   "cell_type": "code",
   "execution_count": 4,
   "id": "6d10ff99",
   "metadata": {},
   "outputs": [],
   "source": [
    "data = data.dropna(axis=0) # remove empty data"
   ]
  },
  {
   "cell_type": "markdown",
   "id": "83df52e4",
   "metadata": {},
   "source": [
    "### Check over the data\n",
    "- describe()\n",
    "- head()\n",
    "- column"
   ]
  },
  {
   "cell_type": "code",
   "execution_count": 5,
   "id": "e4394c0c",
   "metadata": {},
   "outputs": [
    {
     "data": {
      "text/html": [
       "<div>\n",
       "<style scoped>\n",
       "    .dataframe tbody tr th:only-of-type {\n",
       "        vertical-align: middle;\n",
       "    }\n",
       "\n",
       "    .dataframe tbody tr th {\n",
       "        vertical-align: top;\n",
       "    }\n",
       "\n",
       "    .dataframe thead th {\n",
       "        text-align: right;\n",
       "    }\n",
       "</style>\n",
       "<table border=\"1\" class=\"dataframe\">\n",
       "  <thead>\n",
       "    <tr style=\"text-align: right;\">\n",
       "      <th></th>\n",
       "      <th>6</th>\n",
       "      <th>148</th>\n",
       "      <th>72</th>\n",
       "      <th>35</th>\n",
       "      <th>0</th>\n",
       "      <th>33.6</th>\n",
       "      <th>0.627</th>\n",
       "      <th>50</th>\n",
       "      <th>1</th>\n",
       "    </tr>\n",
       "  </thead>\n",
       "  <tbody>\n",
       "    <tr>\n",
       "      <th>count</th>\n",
       "      <td>767.000000</td>\n",
       "      <td>767.000000</td>\n",
       "      <td>767.000000</td>\n",
       "      <td>767.000000</td>\n",
       "      <td>767.000000</td>\n",
       "      <td>767.000000</td>\n",
       "      <td>767.000000</td>\n",
       "      <td>767.000000</td>\n",
       "      <td>767.000000</td>\n",
       "    </tr>\n",
       "    <tr>\n",
       "      <th>mean</th>\n",
       "      <td>3.842243</td>\n",
       "      <td>120.859192</td>\n",
       "      <td>69.101695</td>\n",
       "      <td>20.517601</td>\n",
       "      <td>79.903520</td>\n",
       "      <td>31.990482</td>\n",
       "      <td>0.471674</td>\n",
       "      <td>33.219035</td>\n",
       "      <td>0.348110</td>\n",
       "    </tr>\n",
       "    <tr>\n",
       "      <th>std</th>\n",
       "      <td>3.370877</td>\n",
       "      <td>31.978468</td>\n",
       "      <td>19.368155</td>\n",
       "      <td>15.954059</td>\n",
       "      <td>115.283105</td>\n",
       "      <td>7.889091</td>\n",
       "      <td>0.331497</td>\n",
       "      <td>11.752296</td>\n",
       "      <td>0.476682</td>\n",
       "    </tr>\n",
       "    <tr>\n",
       "      <th>min</th>\n",
       "      <td>0.000000</td>\n",
       "      <td>0.000000</td>\n",
       "      <td>0.000000</td>\n",
       "      <td>0.000000</td>\n",
       "      <td>0.000000</td>\n",
       "      <td>0.000000</td>\n",
       "      <td>0.078000</td>\n",
       "      <td>21.000000</td>\n",
       "      <td>0.000000</td>\n",
       "    </tr>\n",
       "    <tr>\n",
       "      <th>25%</th>\n",
       "      <td>1.000000</td>\n",
       "      <td>99.000000</td>\n",
       "      <td>62.000000</td>\n",
       "      <td>0.000000</td>\n",
       "      <td>0.000000</td>\n",
       "      <td>27.300000</td>\n",
       "      <td>0.243500</td>\n",
       "      <td>24.000000</td>\n",
       "      <td>0.000000</td>\n",
       "    </tr>\n",
       "    <tr>\n",
       "      <th>50%</th>\n",
       "      <td>3.000000</td>\n",
       "      <td>117.000000</td>\n",
       "      <td>72.000000</td>\n",
       "      <td>23.000000</td>\n",
       "      <td>32.000000</td>\n",
       "      <td>32.000000</td>\n",
       "      <td>0.371000</td>\n",
       "      <td>29.000000</td>\n",
       "      <td>0.000000</td>\n",
       "    </tr>\n",
       "    <tr>\n",
       "      <th>75%</th>\n",
       "      <td>6.000000</td>\n",
       "      <td>140.000000</td>\n",
       "      <td>80.000000</td>\n",
       "      <td>32.000000</td>\n",
       "      <td>127.500000</td>\n",
       "      <td>36.600000</td>\n",
       "      <td>0.625000</td>\n",
       "      <td>41.000000</td>\n",
       "      <td>1.000000</td>\n",
       "    </tr>\n",
       "    <tr>\n",
       "      <th>max</th>\n",
       "      <td>17.000000</td>\n",
       "      <td>199.000000</td>\n",
       "      <td>122.000000</td>\n",
       "      <td>99.000000</td>\n",
       "      <td>846.000000</td>\n",
       "      <td>67.100000</td>\n",
       "      <td>2.420000</td>\n",
       "      <td>81.000000</td>\n",
       "      <td>1.000000</td>\n",
       "    </tr>\n",
       "  </tbody>\n",
       "</table>\n",
       "</div>"
      ],
      "text/plain": [
       "                6         148          72          35           0        33.6  \\\n",
       "count  767.000000  767.000000  767.000000  767.000000  767.000000  767.000000   \n",
       "mean     3.842243  120.859192   69.101695   20.517601   79.903520   31.990482   \n",
       "std      3.370877   31.978468   19.368155   15.954059  115.283105    7.889091   \n",
       "min      0.000000    0.000000    0.000000    0.000000    0.000000    0.000000   \n",
       "25%      1.000000   99.000000   62.000000    0.000000    0.000000   27.300000   \n",
       "50%      3.000000  117.000000   72.000000   23.000000   32.000000   32.000000   \n",
       "75%      6.000000  140.000000   80.000000   32.000000  127.500000   36.600000   \n",
       "max     17.000000  199.000000  122.000000   99.000000  846.000000   67.100000   \n",
       "\n",
       "            0.627          50           1  \n",
       "count  767.000000  767.000000  767.000000  \n",
       "mean     0.471674   33.219035    0.348110  \n",
       "std      0.331497   11.752296    0.476682  \n",
       "min      0.078000   21.000000    0.000000  \n",
       "25%      0.243500   24.000000    0.000000  \n",
       "50%      0.371000   29.000000    0.000000  \n",
       "75%      0.625000   41.000000    1.000000  \n",
       "max      2.420000   81.000000    1.000000  "
      ]
     },
     "execution_count": 5,
     "metadata": {},
     "output_type": "execute_result"
    }
   ],
   "source": [
    "data.describe()"
   ]
  },
  {
   "cell_type": "code",
   "execution_count": 10,
   "id": "b5798625",
   "metadata": {},
   "outputs": [
    {
     "data": {
      "text/html": [
       "<div>\n",
       "<style scoped>\n",
       "    .dataframe tbody tr th:only-of-type {\n",
       "        vertical-align: middle;\n",
       "    }\n",
       "\n",
       "    .dataframe tbody tr th {\n",
       "        vertical-align: top;\n",
       "    }\n",
       "\n",
       "    .dataframe thead th {\n",
       "        text-align: right;\n",
       "    }\n",
       "</style>\n",
       "<table border=\"1\" class=\"dataframe\">\n",
       "  <thead>\n",
       "    <tr style=\"text-align: right;\">\n",
       "      <th></th>\n",
       "      <th>6</th>\n",
       "      <th>148</th>\n",
       "      <th>72</th>\n",
       "      <th>35</th>\n",
       "      <th>0</th>\n",
       "      <th>33.6</th>\n",
       "      <th>0.627</th>\n",
       "      <th>50</th>\n",
       "      <th>1</th>\n",
       "    </tr>\n",
       "  </thead>\n",
       "  <tbody>\n",
       "    <tr>\n",
       "      <th>0</th>\n",
       "      <td>1</td>\n",
       "      <td>85</td>\n",
       "      <td>66</td>\n",
       "      <td>29</td>\n",
       "      <td>0</td>\n",
       "      <td>26.6</td>\n",
       "      <td>0.351</td>\n",
       "      <td>31</td>\n",
       "      <td>0</td>\n",
       "    </tr>\n",
       "    <tr>\n",
       "      <th>1</th>\n",
       "      <td>8</td>\n",
       "      <td>183</td>\n",
       "      <td>64</td>\n",
       "      <td>0</td>\n",
       "      <td>0</td>\n",
       "      <td>23.3</td>\n",
       "      <td>0.672</td>\n",
       "      <td>32</td>\n",
       "      <td>1</td>\n",
       "    </tr>\n",
       "    <tr>\n",
       "      <th>2</th>\n",
       "      <td>1</td>\n",
       "      <td>89</td>\n",
       "      <td>66</td>\n",
       "      <td>23</td>\n",
       "      <td>94</td>\n",
       "      <td>28.1</td>\n",
       "      <td>0.167</td>\n",
       "      <td>21</td>\n",
       "      <td>0</td>\n",
       "    </tr>\n",
       "    <tr>\n",
       "      <th>3</th>\n",
       "      <td>0</td>\n",
       "      <td>137</td>\n",
       "      <td>40</td>\n",
       "      <td>35</td>\n",
       "      <td>168</td>\n",
       "      <td>43.1</td>\n",
       "      <td>2.288</td>\n",
       "      <td>33</td>\n",
       "      <td>1</td>\n",
       "    </tr>\n",
       "    <tr>\n",
       "      <th>4</th>\n",
       "      <td>5</td>\n",
       "      <td>116</td>\n",
       "      <td>74</td>\n",
       "      <td>0</td>\n",
       "      <td>0</td>\n",
       "      <td>25.6</td>\n",
       "      <td>0.201</td>\n",
       "      <td>30</td>\n",
       "      <td>0</td>\n",
       "    </tr>\n",
       "  </tbody>\n",
       "</table>\n",
       "</div>"
      ],
      "text/plain": [
       "   6  148  72  35    0  33.6  0.627  50  1\n",
       "0  1   85  66  29    0  26.6  0.351  31  0\n",
       "1  8  183  64   0    0  23.3  0.672  32  1\n",
       "2  1   89  66  23   94  28.1  0.167  21  0\n",
       "3  0  137  40  35  168  43.1  2.288  33  1\n",
       "4  5  116  74   0    0  25.6  0.201  30  0"
      ]
     },
     "execution_count": 10,
     "metadata": {},
     "output_type": "execute_result"
    }
   ],
   "source": [
    "data.head() # first 5 rows"
   ]
  },
  {
   "cell_type": "code",
   "execution_count": 13,
   "id": "b1accc3e",
   "metadata": {},
   "outputs": [
    {
     "data": {
      "text/plain": [
       "Index(['6', '148', '72', '35', '0', '33.6', '0.627', '50', '1'], dtype='object')"
      ]
     },
     "execution_count": 13,
     "metadata": {},
     "output_type": "execute_result"
    }
   ],
   "source": [
    "data.columns # equvilent to keys"
   ]
  },
  {
   "cell_type": "markdown",
   "id": "da6531fd",
   "metadata": {},
   "source": [
    "### Split into X and y\n",
    "X is the input data\n",
    "y is the output data - the target of our predictions\n",
    "\n",
    "If the data is not all numerical, you need to fix it here. For example, if it's three different types of Iris classifications you need to write some code to assign the numbers 0, 1, and 2 to the three types."
   ]
  },
  {
   "cell_type": "code",
   "execution_count": 14,
   "id": "a40b4ef8",
   "metadata": {},
   "outputs": [],
   "source": [
    "# usually you'd do y.ColumnName since it's only one column\n",
    "# but this time since it's a called a number '1' I'm using the list method\n",
    "\n",
    "y_columns = ['1']\n",
    "y = data[y_columns]"
   ]
  },
  {
   "cell_type": "code",
   "execution_count": 15,
   "id": "1f4a1698",
   "metadata": {},
   "outputs": [],
   "source": [
    "x_columns = ['6', '148', '72', '35', '0', '33.6', '0.627', '50'] # copied from data.columns, everything but the target column\n",
    "X = data[x_columns]"
   ]
  },
  {
   "cell_type": "markdown",
   "id": "bfae827e",
   "metadata": {},
   "source": [
    "### Train test split"
   ]
  },
  {
   "cell_type": "code",
   "execution_count": 16,
   "id": "24a050a9",
   "metadata": {},
   "outputs": [],
   "source": [
    "from sklearn.model_selection import train_test_split"
   ]
  },
  {
   "cell_type": "code",
   "execution_count": 32,
   "id": "d7302cbc",
   "metadata": {},
   "outputs": [],
   "source": [
    "X_train, X_test, y_train, y_test = train_test_split(X, y, random_state=256)\n",
    "# X_train, X_test, y_train, y_test = train_test_split(X, y, train_size=0.7, test_size=0.2, random_state=256)"
   ]
  },
  {
   "cell_type": "markdown",
   "id": "ea33128d",
   "metadata": {},
   "source": [
    "## 2. Building the Model\n",
    "Now that all the data preparation is done, we can build the actual tree\n"
   ]
  },
  {
   "cell_type": "code",
   "execution_count": 49,
   "id": "cf319b44",
   "metadata": {},
   "outputs": [],
   "source": [
    "from sklearn.tree import DecisionTreeRegressor\n",
    "# Create the model\n",
    "model = DecisionTreeRegressor(max_leaf_nodes=100, random_state=256) # you can also just not specify the amount of leaf nodes"
   ]
  },
  {
   "cell_type": "code",
   "execution_count": 50,
   "id": "adb0f910",
   "metadata": {},
   "outputs": [
    {
     "data": {
      "text/plain": [
       "DecisionTreeRegressor(max_leaf_nodes=100, random_state=256)"
      ]
     },
     "execution_count": 50,
     "metadata": {},
     "output_type": "execute_result"
    }
   ],
   "source": [
    "# Fit the model to the training data\n",
    "model.fit(X_train, y_train)"
   ]
  },
  {
   "cell_type": "markdown",
   "id": "b8eebedf",
   "metadata": {},
   "source": [
    "#### Predictions\n",
    "Find out what the model predicts based on the testing input data"
   ]
  },
  {
   "cell_type": "code",
   "execution_count": 51,
   "id": "3e3d13dc",
   "metadata": {},
   "outputs": [
    {
     "data": {
      "text/plain": [
       "array([1.        , 1.        , 1.        , 1.        , 0.00877193])"
      ]
     },
     "execution_count": 51,
     "metadata": {},
     "output_type": "execute_result"
    }
   ],
   "source": [
    "predictions = model.predict(X_test)\n",
    "predictions[:5] # print out the first five rows"
   ]
  },
  {
   "cell_type": "markdown",
   "id": "a0a449ce",
   "metadata": {},
   "source": [
    "## 3. Calculating Accuracy\n",
    "import mean absolute error to find out how off you are each time"
   ]
  },
  {
   "cell_type": "code",
   "execution_count": 52,
   "id": "e4d9e5d1",
   "metadata": {},
   "outputs": [],
   "source": [
    "from sklearn.metrics import mean_absolute_error"
   ]
  },
  {
   "cell_type": "code",
   "execution_count": 55,
   "id": "4a38d4f5",
   "metadata": {},
   "outputs": [],
   "source": [
    "# Since the predictions are not all 1 or 0 we need to round them\n",
    "rounded_predictions = []\n",
    "for p in predictions:\n",
    "    rounded_predictions.append(int(p))"
   ]
  },
  {
   "cell_type": "code",
   "execution_count": 56,
   "id": "3b9112d0",
   "metadata": {},
   "outputs": [
    {
     "data": {
      "text/plain": [
       "[1, 1, 1, 1, 0]"
      ]
     },
     "execution_count": 56,
     "metadata": {},
     "output_type": "execute_result"
    }
   ],
   "source": [
    "rounded_predictions[:5]"
   ]
  },
  {
   "cell_type": "markdown",
   "id": "9fcc5122",
   "metadata": {},
   "source": [
    "Now compare the predictions from X_test to the actual answers in y_test"
   ]
  },
  {
   "cell_type": "code",
   "execution_count": 57,
   "id": "5d2c456c",
   "metadata": {},
   "outputs": [],
   "source": [
    "mae = mean_absolute_error(rounded_predictions, y_test)"
   ]
  },
  {
   "cell_type": "code",
   "execution_count": 58,
   "id": "70188bea",
   "metadata": {},
   "outputs": [
    {
     "data": {
      "text/plain": [
       "0.3177083333333333"
      ]
     },
     "execution_count": 58,
     "metadata": {},
     "output_type": "execute_result"
    }
   ],
   "source": [
    "mae"
   ]
  },
  {
   "cell_type": "markdown",
   "id": "8968e044",
   "metadata": {},
   "source": [
    "Meaning that we are off by 0.3 each time"
   ]
  },
  {
   "cell_type": "markdown",
   "id": "0197183e",
   "metadata": {},
   "source": [
    "Lastly, you can play around with different leaf nodes, find the best value and train the final model with all the data (X and y)"
   ]
  },
  {
   "cell_type": "markdown",
   "id": "ba1002e2",
   "metadata": {},
   "source": [
    "### Accuracy Metric\n",
    "Check the precentage of correct predictions or the amount of correct predictions"
   ]
  },
  {
   "cell_type": "code",
   "execution_count": 60,
   "id": "d0e0339b",
   "metadata": {},
   "outputs": [],
   "source": [
    "from sklearn.metrics import accuracy_score\n",
    "precentage_accuracy = accuracy_score(rounded_predictions, y_test)\n",
    "num_of_accurate_predictions = accuracy_score(rounded_predictions, y_test, normalize=False)"
   ]
  },
  {
   "cell_type": "code",
   "execution_count": 61,
   "id": "8c105364",
   "metadata": {},
   "outputs": [
    {
     "data": {
      "text/plain": [
       "0.6822916666666666"
      ]
     },
     "execution_count": 61,
     "metadata": {},
     "output_type": "execute_result"
    }
   ],
   "source": [
    "precentage_accuracy # aka 131/192"
   ]
  },
  {
   "cell_type": "code",
   "execution_count": 62,
   "id": "7b059993",
   "metadata": {},
   "outputs": [
    {
     "data": {
      "text/plain": [
       "131"
      ]
     },
     "execution_count": 62,
     "metadata": {},
     "output_type": "execute_result"
    }
   ],
   "source": [
    "num_of_accurate_predictions"
   ]
  },
  {
   "cell_type": "code",
   "execution_count": 64,
   "id": "2eae4764",
   "metadata": {},
   "outputs": [
    {
     "data": {
      "text/plain": [
       "192"
      ]
     },
     "execution_count": 64,
     "metadata": {},
     "output_type": "execute_result"
    }
   ],
   "source": [
    "num_of_samples = accuracy_score(y_test, y_test, normalize=False)\n",
    "num_of_samples"
   ]
  },
  {
   "cell_type": "markdown",
   "id": "708b58c0",
   "metadata": {},
   "source": [
    "## 4. Random Forest Model\n",
    "Import randomeforestregressor and make a random forest model.\n",
    "Everything is done the same, but a random forest has multiple decision trees.\n",
    "The predictions from each tree are averaged resulting in a better prediction."
   ]
  },
  {
   "cell_type": "code",
   "execution_count": 65,
   "id": "e4a13087",
   "metadata": {},
   "outputs": [],
   "source": [
    "from sklearn.ensemble import RandomForestRegressor"
   ]
  },
  {
   "cell_type": "code",
   "execution_count": 70,
   "id": "c4cd6f7b",
   "metadata": {},
   "outputs": [
    {
     "data": {
      "text/plain": [
       "575"
      ]
     },
     "execution_count": 70,
     "metadata": {},
     "output_type": "execute_result"
    }
   ],
   "source": [
    "len(y_train)"
   ]
  },
  {
   "cell_type": "code",
   "execution_count": 72,
   "id": "a437ac04",
   "metadata": {},
   "outputs": [
    {
     "name": "stderr",
     "output_type": "stream",
     "text": [
      "<ipython-input-72-0c3935ce9141>:2: DataConversionWarning: A column-vector y was passed when a 1d array was expected. Please change the shape of y to (n_samples,), for example using ravel().\n",
      "  forest.fit(X_train, y_train)\n"
     ]
    },
    {
     "data": {
      "text/plain": [
       "RandomForestRegressor(random_state=256)"
      ]
     },
     "execution_count": 72,
     "metadata": {},
     "output_type": "execute_result"
    }
   ],
   "source": [
    "forest = RandomForestRegressor(random_state=256)\n",
    "forest.fit(X_train, y_train)"
   ]
  },
  {
   "cell_type": "code",
   "execution_count": 75,
   "id": "c390c177",
   "metadata": {},
   "outputs": [
    {
     "data": {
      "text/plain": [
       "0.390625"
      ]
     },
     "execution_count": 75,
     "metadata": {},
     "output_type": "execute_result"
    }
   ],
   "source": [
    "predictions = forest.predict(X_test)\n",
    "# Since the predictions are not all 1 or 0 we need to round them\n",
    "rounded_predictions = []\n",
    "for p in predictions:\n",
    "    rounded_predictions.append(int(p))\n",
    "    \n",
    "mae = mean_absolute_error(y_test, rounded_predictions)\n",
    "mae"
   ]
  },
  {
   "cell_type": "code",
   "execution_count": 76,
   "id": "2e70f5c5",
   "metadata": {},
   "outputs": [],
   "source": [
    "# Controlling other values\n",
    "model_3 = RandomForestRegressor(n_estimators=100, criterion='mae', random_state=0)\n",
    "model_4 = RandomForestRegressor(n_estimators=200, min_samples_split=20, random_state=0)\n",
    "model_5 = RandomForestRegressor(n_estimators=100, max_depth=7, random_state=0)"
   ]
  },
  {
   "cell_type": "markdown",
   "id": "3a827f1d",
   "metadata": {},
   "source": [
    "## 5. Final Predictions to csv\n",
    "With the final model, get the final predictions and change from dataframe to csv\n"
   ]
  },
  {
   "cell_type": "code",
   "execution_count": 79,
   "id": "73a03282",
   "metadata": {},
   "outputs": [],
   "source": [
    "predictions_final = forest.predict(X_test) # get predictions"
   ]
  },
  {
   "cell_type": "code",
   "execution_count": 81,
   "id": "ab8379c4",
   "metadata": {},
   "outputs": [
    {
     "data": {
      "text/plain": [
       "array([0.54, 0.64, 0.21, 0.87, 0.01])"
      ]
     },
     "execution_count": 81,
     "metadata": {},
     "output_type": "execute_result"
    }
   ],
   "source": [
    "predictions_final[:5]"
   ]
  },
  {
   "cell_type": "code",
   "execution_count": 85,
   "id": "02dcba38",
   "metadata": {},
   "outputs": [],
   "source": [
    "output = pd.DataFrame({'Id': X_test.index, 'Diabetic': predictions_final}) # save to new dataframe with indexes"
   ]
  },
  {
   "cell_type": "code",
   "execution_count": 86,
   "id": "08f1fe6e",
   "metadata": {},
   "outputs": [],
   "source": [
    "output.to_csv('submission.csv', index=False)"
   ]
  },
  {
   "cell_type": "markdown",
   "id": "3939b69f",
   "metadata": {},
   "source": [
    "Then the csv file will appear in the directory"
   ]
  },
  {
   "cell_type": "code",
   "execution_count": null,
   "id": "7ea5eb42",
   "metadata": {},
   "outputs": [],
   "source": []
  }
 ],
 "metadata": {
  "kernelspec": {
   "display_name": "Python 3",
   "language": "python",
   "name": "python3"
  },
  "language_info": {
   "codemirror_mode": {
    "name": "ipython",
    "version": 3
   },
   "file_extension": ".py",
   "mimetype": "text/x-python",
   "name": "python",
   "nbconvert_exporter": "python",
   "pygments_lexer": "ipython3",
   "version": "3.8.8"
  }
 },
 "nbformat": 4,
 "nbformat_minor": 5
}
